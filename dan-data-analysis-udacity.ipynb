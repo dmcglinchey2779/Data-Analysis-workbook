{
 "cells": [
  {
   "cell_type": "code",
   "execution_count": 1,
   "metadata": {
    "collapsed": false
   },
   "outputs": [
    {
     "data": {
      "text/plain": [
       "{u'account_key': u'448',\n",
       " u'cancel_date': u'2015-01-14',\n",
       " u'days_to_cancel': u'65',\n",
       " u'is_canceled': u'True',\n",
       " u'is_udacity': u'True',\n",
       " u'join_date': u'2014-11-10',\n",
       " u'status': u'canceled'}"
      ]
     },
     "execution_count": 1,
     "metadata": {},
     "output_type": "execute_result"
    }
   ],
   "source": [
    "import unicodecsv\n",
    "\n",
    "with open('enrollments.csv', 'rb') as f:\n",
    "    reader = unicodecsv.DictReader(f)\n",
    "    enrollments = list(reader)\n",
    "    \n",
    "enrollments[0]\n"
   ]
  },
  {
   "cell_type": "code",
   "execution_count": 2,
   "metadata": {
    "collapsed": false
   },
   "outputs": [
    {
     "data": {
      "text/plain": [
       "{u'acct': u'0',\n",
       " u'lessons_completed': u'0.0',\n",
       " u'num_courses_visited': u'1.0',\n",
       " u'projects_completed': u'0.0',\n",
       " u'total_minutes_visited': u'11.6793745',\n",
       " u'utc_date': u'2015-01-09'}"
      ]
     },
     "execution_count": 2,
     "metadata": {},
     "output_type": "execute_result"
    }
   ],
   "source": [
    "with open('daily_engagements.csv', 'rb') as f:\n",
    "    reader = unicodecsv.DictReader(f)\n",
    "    engagements = list(reader)\n",
    "    \n",
    "engagements[0]"
   ]
  },
  {
   "cell_type": "code",
   "execution_count": 3,
   "metadata": {
    "collapsed": false
   },
   "outputs": [
    {
     "data": {
      "text/plain": [
       "{u'account_key': u'256',\n",
       " u'assigned_rating': u'UNGRADED',\n",
       " u'completion_date': u'2015-01-16',\n",
       " u'creation_date': u'2015-01-14',\n",
       " u'lesson_key': u'3176718735',\n",
       " u'processing_state': u'EVALUATED'}"
      ]
     },
     "execution_count": 3,
     "metadata": {},
     "output_type": "execute_result"
    }
   ],
   "source": [
    "with open('project_submissions.csv', 'rb') as f:\n",
    "    reader = unicodecsv.DictReader(f)\n",
    "    submissions = list(reader)\n",
    "    \n",
    "submissions[0]\n"
   ]
  },
  {
   "cell_type": "code",
   "execution_count": 4,
   "metadata": {
    "collapsed": false
   },
   "outputs": [
    {
     "data": {
      "text/plain": [
       "{u'account_key': u'448',\n",
       " u'cancel_date': datetime.datetime(2015, 1, 14, 0, 0),\n",
       " u'days_to_cancel': 65,\n",
       " u'is_canceled': True,\n",
       " u'is_udacity': True,\n",
       " u'join_date': datetime.datetime(2014, 11, 10, 0, 0),\n",
       " u'status': u'canceled'}"
      ]
     },
     "execution_count": 4,
     "metadata": {},
     "output_type": "execute_result"
    }
   ],
   "source": [
    "from datetime import datetime as dt\n",
    "#Takes a date as a string and returns a Python datetime object\n",
    "#If there is no given date, returns None\n",
    "def parse_date(date):\n",
    "    if date == '':\n",
    "        return None\n",
    "    else:\n",
    "        return dt.strptime(date, '%Y-%m-%d')\n",
    "    \n",
    "    #Takes a string which is either and empty string or represents an integer, \n",
    "    #and returns an int or None\n",
    "def parse_maybe_int(i):\n",
    "        if i == '':\n",
    "            return None\n",
    "        else:\n",
    "            return int(i)\n",
    "#Clean up data types in the enrollments table\n",
    "for enrollment in enrollments:\n",
    "    enrollment['cancel_date'] = parse_date(enrollment['cancel_date'])\n",
    "    enrollment['days_to_cancel'] = parse_maybe_int(enrollment['days_to_cancel'])\n",
    "    enrollment['is_canceled'] = enrollment['is_canceled'] == 'True'\n",
    "    enrollment['is_udacity'] = enrollment['is_udacity'] == 'True'\n",
    "    enrollment['join_date'] = parse_date(enrollment['join_date'])\n",
    "\n",
    "enrollments[0]"
   ]
  },
  {
   "cell_type": "code",
   "execution_count": 5,
   "metadata": {
    "collapsed": false
   },
   "outputs": [
    {
     "name": "stdout",
     "output_type": "stream",
     "text": [
      "{u'status': u'canceled', u'is_udacity': True, u'is_canceled': True, u'join_date': datetime.datetime(2014, 11, 10, 0, 0), u'account_key': u'448', u'cancel_date': datetime.datetime(2015, 1, 14, 0, 0), u'days_to_cancel': 65}\n"
     ]
    }
   ],
   "source": [
    "print(enrollments[0])\n"
   ]
  },
  {
   "cell_type": "code",
   "execution_count": 6,
   "metadata": {
    "collapsed": false
   },
   "outputs": [
    {
     "data": {
      "text/plain": [
       "{u'account_key': u'448',\n",
       " u'cancel_date': datetime.datetime(2015, 1, 14, 0, 0),\n",
       " u'days_to_cancel': 65,\n",
       " u'is_canceled': True,\n",
       " u'is_udacity': True,\n",
       " u'join_date': datetime.datetime(2014, 11, 10, 0, 0),\n",
       " u'status': u'canceled'}"
      ]
     },
     "execution_count": 6,
     "metadata": {},
     "output_type": "execute_result"
    }
   ],
   "source": [
    "enrollments[0]\n"
   ]
  },
  {
   "cell_type": "code",
   "execution_count": 7,
   "metadata": {
    "collapsed": false
   },
   "outputs": [
    {
     "data": {
      "text/plain": [
       "{u'acct': u'0',\n",
       " u'lessons_completed': 0,\n",
       " u'num_courses_visited': 1,\n",
       " u'projects_completed': 0,\n",
       " u'total_minutes_visited': 11.6793745,\n",
       " u'utc_date': datetime.datetime(2015, 1, 9, 0, 0)}"
      ]
     },
     "execution_count": 7,
     "metadata": {},
     "output_type": "execute_result"
    }
   ],
   "source": [
    "for engagement_record in engagements:\n",
    "    engagement_record['lessons_completed'] = int(float(engagement_record['lessons_completed']))\n",
    "    engagement_record['num_courses_visited'] = int(float(engagement_record['num_courses_visited']))\n",
    "    engagement_record['projects_completed'] = int(float(engagement_record['projects_completed']))\n",
    "    engagement_record['total_minutes_visited']= float(engagement_record['total_minutes_visited'])\n",
    "    engagement_record['utc_date'] = parse_date(engagement_record['utc_date'])\n",
    "engagements[0]"
   ]
  },
  {
   "cell_type": "code",
   "execution_count": 8,
   "metadata": {
    "collapsed": false
   },
   "outputs": [
    {
     "data": {
      "text/plain": [
       "{u'account_key': u'256',\n",
       " u'assigned_rating': u'UNGRADED',\n",
       " u'completion_date': datetime.datetime(2015, 1, 16, 0, 0),\n",
       " u'creation_date': datetime.datetime(2015, 1, 14, 0, 0),\n",
       " u'lesson_key': u'3176718735',\n",
       " u'processing_state': u'EVALUATED'}"
      ]
     },
     "execution_count": 8,
     "metadata": {},
     "output_type": "execute_result"
    }
   ],
   "source": [
    "#clean up submissions table\n",
    "for submission in submissions:\n",
    "    submission['completion_date'] = parse_date(submission['completion_date'])\n",
    "    submission['creation_date'] = parse_date(submission['creation_date'])\n",
    "    \n",
    "submissions[0]\n",
    "\n",
    "    "
   ]
  },
  {
   "cell_type": "code",
   "execution_count": 9,
   "metadata": {
    "collapsed": true
   },
   "outputs": [],
   "source": [
    "for engagement_record in engagements:\n",
    "    engagement_record['account_key'] = engagement_record['acct']\n",
    "    del[engagement_record['acct']]\n"
   ]
  },
  {
   "cell_type": "code",
   "execution_count": 10,
   "metadata": {
    "collapsed": true
   },
   "outputs": [],
   "source": [
    "def get_unique_students(data):\n",
    "    unique_students = set()\n",
    "    for data_point in data:\n",
    "        unique_students.add(data_point['account_key'])\n",
    "    return unique_students"
   ]
  },
  {
   "cell_type": "code",
   "execution_count": 11,
   "metadata": {
    "collapsed": false
   },
   "outputs": [
    {
     "data": {
      "text/plain": [
       "1640"
      ]
     },
     "execution_count": 11,
     "metadata": {},
     "output_type": "execute_result"
    }
   ],
   "source": [
    "len(enrollments)"
   ]
  },
  {
   "cell_type": "code",
   "execution_count": 12,
   "metadata": {
    "collapsed": false
   },
   "outputs": [
    {
     "data": {
      "text/plain": [
       "1302"
      ]
     },
     "execution_count": 12,
     "metadata": {},
     "output_type": "execute_result"
    }
   ],
   "source": [
    "unique_enrolled_students = get_unique_students(enrollments)\n",
    "len(unique_enrolled_students)"
   ]
  },
  {
   "cell_type": "code",
   "execution_count": 13,
   "metadata": {
    "collapsed": false
   },
   "outputs": [
    {
     "data": {
      "text/plain": [
       "136240"
      ]
     },
     "execution_count": 13,
     "metadata": {},
     "output_type": "execute_result"
    }
   ],
   "source": [
    "len(engagements)"
   ]
  },
  {
   "cell_type": "code",
   "execution_count": 14,
   "metadata": {
    "collapsed": false
   },
   "outputs": [
    {
     "data": {
      "text/plain": [
       "1237"
      ]
     },
     "execution_count": 14,
     "metadata": {},
     "output_type": "execute_result"
    }
   ],
   "source": [
    "unique_engagement_students = get_unique_students(engagements)\n",
    "len(unique_engagement_students)"
   ]
  },
  {
   "cell_type": "code",
   "execution_count": 15,
   "metadata": {
    "collapsed": false
   },
   "outputs": [
    {
     "data": {
      "text/plain": [
       "3642"
      ]
     },
     "execution_count": 15,
     "metadata": {},
     "output_type": "execute_result"
    }
   ],
   "source": [
    "len(submissions)"
   ]
  },
  {
   "cell_type": "code",
   "execution_count": 16,
   "metadata": {
    "collapsed": false
   },
   "outputs": [
    {
     "data": {
      "text/plain": [
       "743"
      ]
     },
     "execution_count": 16,
     "metadata": {},
     "output_type": "execute_result"
    }
   ],
   "source": [
    "unique_submission_students = get_unique_students(submissions)\n",
    "len(unique_submission_students)"
   ]
  },
  {
   "cell_type": "code",
   "execution_count": 17,
   "metadata": {
    "collapsed": false
   },
   "outputs": [
    {
     "name": "stdout",
     "output_type": "stream",
     "text": [
      "{u'status': u'canceled', u'is_udacity': False, u'is_canceled': True, u'join_date': datetime.datetime(2014, 11, 12, 0, 0), u'account_key': u'1219', u'cancel_date': datetime.datetime(2014, 11, 12, 0, 0), u'days_to_cancel': 0}\n"
     ]
    }
   ],
   "source": [
    "for enrollment in enrollments:\n",
    "    student = enrollment['account_key']\n",
    "    if student not in unique_engagement_students:\n",
    "        print enrollment\n",
    "        break\n",
    "        "
   ]
  },
  {
   "cell_type": "code",
   "execution_count": 18,
   "metadata": {
    "collapsed": false
   },
   "outputs": [
    {
     "name": "stdout",
     "output_type": "stream",
     "text": [
      "{u'status': u'canceled', u'is_udacity': True, u'is_canceled': True, u'join_date': datetime.datetime(2015, 1, 10, 0, 0), u'account_key': u'1304', u'cancel_date': datetime.datetime(2015, 3, 10, 0, 0), u'days_to_cancel': 59}\n",
      "{u'status': u'canceled', u'is_udacity': True, u'is_canceled': True, u'join_date': datetime.datetime(2015, 3, 10, 0, 0), u'account_key': u'1304', u'cancel_date': datetime.datetime(2015, 6, 17, 0, 0), u'days_to_cancel': 99}\n",
      "{u'status': u'current', u'is_udacity': True, u'is_canceled': False, u'join_date': datetime.datetime(2015, 2, 25, 0, 0), u'account_key': u'1101', u'cancel_date': None, u'days_to_cancel': None}\n"
     ]
    },
    {
     "data": {
      "text/plain": [
       "3"
      ]
     },
     "execution_count": 18,
     "metadata": {},
     "output_type": "execute_result"
    }
   ],
   "source": [
    "num_problem_students = 0\n",
    "for enrollment in enrollments:\n",
    "    student = enrollment['account_key']\n",
    "    if student not in unique_engagement_students \\\n",
    "        and enrollment['join_date'] != enrollment['cancel_date']:\n",
    "        num_problem_students += 1\n",
    "        print enrollment\n",
    "        \n",
    "num_problem_students\n"
   ]
  },
  {
   "cell_type": "code",
   "execution_count": 19,
   "metadata": {
    "collapsed": false
   },
   "outputs": [
    {
     "data": {
      "text/plain": [
       "6"
      ]
     },
     "execution_count": 19,
     "metadata": {},
     "output_type": "execute_result"
    }
   ],
   "source": [
    "udacity_test_accounts = set()\n",
    "for enrollment in enrollments:\n",
    "    if enrollment['is_udacity']:\n",
    "        udacity_test_accounts.add(enrollment['account_key'])\n",
    "len(udacity_test_accounts)"
   ]
  },
  {
   "cell_type": "code",
   "execution_count": 20,
   "metadata": {
    "collapsed": false
   },
   "outputs": [],
   "source": [
    "def remove_udacity_accounts(data):\n",
    "    non_udacity_data = []\n",
    "    for data_point in data:\n",
    "        if data_point['account_key'] not in udacity_test_accounts:\n",
    "            non_udacity_data.append(data_point)\n",
    "    return non_udacity_data"
   ]
  },
  {
   "cell_type": "code",
   "execution_count": 21,
   "metadata": {
    "collapsed": false
   },
   "outputs": [
    {
     "name": "stdout",
     "output_type": "stream",
     "text": [
      "1622\n",
      "135656\n",
      "3634\n"
     ]
    }
   ],
   "source": [
    "non_udacity_enrollments = remove_udacity_accounts(enrollments)\n",
    "non_udacity_engagements = remove_udacity_accounts(engagements)\n",
    "non_udacity_submissions = remove_udacity_accounts(submissions)\n",
    "\n",
    "print len(non_udacity_enrollments)\n",
    "print len(non_udacity_engagements)\n",
    "print len(non_udacity_submissions)"
   ]
  },
  {
   "cell_type": "code",
   "execution_count": 22,
   "metadata": {
    "collapsed": false
   },
   "outputs": [
    {
     "data": {
      "text/plain": [
       "[(u'1200', datetime.datetime(2015, 3, 4, 0, 0)),\n",
       " (u'1175', datetime.datetime(2015, 4, 2, 0, 0)),\n",
       " (u'1269', datetime.datetime(2015, 8, 21, 0, 0)),\n",
       " (u'669', datetime.datetime(2015, 5, 12, 0, 0)),\n",
       " (u'1257', datetime.datetime(2015, 7, 9, 0, 0)),\n",
       " (u'344', datetime.datetime(2015, 1, 11, 0, 0)),\n",
       " (u'345', datetime.datetime(2015, 1, 7, 0, 0)),\n",
       " (u'346', datetime.datetime(2014, 12, 8, 0, 0)),\n",
       " (u'347', datetime.datetime(2015, 4, 5, 0, 0)),\n",
       " (u'340', datetime.datetime(2015, 4, 1, 0, 0)),\n",
       " (u'341', datetime.datetime(2015, 5, 10, 0, 0)),\n",
       " (u'342', datetime.datetime(2014, 12, 5, 0, 0)),\n",
       " (u'343', datetime.datetime(2014, 12, 7, 0, 0)),\n",
       " (u'811', datetime.datetime(2015, 5, 6, 0, 0)),\n",
       " (u'812', datetime.datetime(2015, 7, 9, 0, 0)),\n",
       " (u'348', datetime.datetime(2015, 3, 5, 0, 0)),\n",
       " (u'349', datetime.datetime(2015, 4, 3, 0, 0)),\n",
       " (u'816', datetime.datetime(2015, 8, 20, 0, 0)),\n",
       " (u'918', datetime.datetime(2015, 4, 6, 0, 0)),\n",
       " (u'1149', datetime.datetime(2015, 4, 1, 0, 0)),\n",
       " (u'719', datetime.datetime(2014, 11, 17, 0, 0)),\n",
       " (u'718', datetime.datetime(2015, 5, 8, 0, 0)),\n",
       " (u'715', datetime.datetime(2015, 5, 12, 0, 0)),\n",
       " (u'426', datetime.datetime(2015, 5, 7, 0, 0)),\n",
       " (u'713', datetime.datetime(2015, 5, 12, 0, 0)),\n",
       " (u'712', datetime.datetime(2014, 11, 13, 0, 0)),\n",
       " (u'710', datetime.datetime(2015, 2, 3, 0, 0)),\n",
       " (u'661', datetime.datetime(2015, 5, 12, 0, 0)),\n",
       " (u'660', datetime.datetime(2014, 12, 3, 0, 0)),\n",
       " (u'594', datetime.datetime(2014, 12, 5, 0, 0)),\n",
       " (u'422', datetime.datetime(2015, 5, 8, 0, 0)),\n",
       " (u'1060', datetime.datetime(2015, 1, 11, 0, 0)),\n",
       " (u'1062', datetime.datetime(2015, 5, 10, 0, 0)),\n",
       " (u'619', datetime.datetime(2015, 6, 6, 0, 0)),\n",
       " (u'1066', datetime.datetime(2015, 3, 10, 0, 0)),\n",
       " (u'427', datetime.datetime(2015, 1, 9, 0, 0)),\n",
       " (u'298', datetime.datetime(2015, 5, 8, 0, 0)),\n",
       " (u'299', datetime.datetime(2015, 4, 24, 0, 0)),\n",
       " (u'296', datetime.datetime(2015, 6, 8, 0, 0)),\n",
       " (u'297', datetime.datetime(2015, 1, 12, 0, 0)),\n",
       " (u'294', datetime.datetime(2015, 6, 4, 0, 0)),\n",
       " (u'295', datetime.datetime(2015, 4, 3, 0, 0)),\n",
       " (u'292', datetime.datetime(2014, 12, 5, 0, 0)),\n",
       " (u'293', datetime.datetime(2015, 5, 10, 0, 0)),\n",
       " (u'290', datetime.datetime(2015, 5, 30, 0, 0)),\n",
       " (u'291', datetime.datetime(2015, 4, 2, 0, 0)),\n",
       " (u'1128', datetime.datetime(2015, 3, 11, 0, 0)),\n",
       " (u'590', datetime.datetime(2015, 5, 11, 0, 0)),\n",
       " (u'593', datetime.datetime(2015, 4, 2, 0, 0)),\n",
       " (u'592', datetime.datetime(2015, 1, 7, 0, 0)),\n",
       " (u'595', datetime.datetime(2014, 11, 10, 0, 0)),\n",
       " (u'198', datetime.datetime(2014, 11, 10, 0, 0)),\n",
       " (u'597', datetime.datetime(2015, 1, 12, 0, 0)),\n",
       " (u'596', datetime.datetime(2015, 5, 12, 0, 0)),\n",
       " (u'195', datetime.datetime(2014, 11, 10, 0, 0)),\n",
       " (u'1121', datetime.datetime(2015, 1, 12, 0, 0)),\n",
       " (u'197', datetime.datetime(2015, 1, 7, 0, 0)),\n",
       " (u'1123', datetime.datetime(2015, 4, 3, 0, 0)),\n",
       " (u'1124', datetime.datetime(2015, 4, 8, 0, 0)),\n",
       " (u'1139', datetime.datetime(2015, 1, 16, 0, 0)),\n",
       " (u'193', datetime.datetime(2015, 4, 1, 0, 0)),\n",
       " (u'1088', datetime.datetime(2015, 4, 3, 0, 0)),\n",
       " (u'270', datetime.datetime(2015, 1, 9, 0, 0)),\n",
       " (u'271', datetime.datetime(2015, 7, 8, 0, 0)),\n",
       " (u'272', datetime.datetime(2015, 1, 8, 0, 0)),\n",
       " (u'273', datetime.datetime(2014, 11, 14, 0, 0)),\n",
       " (u'274', datetime.datetime(2015, 5, 6, 0, 0)),\n",
       " (u'275', datetime.datetime(2014, 11, 16, 0, 0)),\n",
       " (u'276', datetime.datetime(2015, 5, 10, 0, 0)),\n",
       " (u'277', datetime.datetime(2014, 11, 15, 0, 0)),\n",
       " (u'278', datetime.datetime(2014, 12, 4, 0, 0)),\n",
       " (u'279', datetime.datetime(2015, 4, 8, 0, 0)),\n",
       " (u'497', datetime.datetime(2015, 5, 12, 0, 0)),\n",
       " (u'1067', datetime.datetime(2015, 8, 22, 0, 0)),\n",
       " (u'524', datetime.datetime(2015, 3, 4, 0, 0)),\n",
       " (u'525', datetime.datetime(2014, 11, 10, 0, 0)),\n",
       " (u'526', datetime.datetime(2015, 7, 16, 0, 0)),\n",
       " (u'527', datetime.datetime(2015, 1, 9, 0, 0)),\n",
       " (u'520', datetime.datetime(2014, 11, 10, 0, 0)),\n",
       " (u'1019', datetime.datetime(2014, 11, 11, 0, 0)),\n",
       " (u'522', datetime.datetime(2014, 11, 10, 0, 0)),\n",
       " (u'523', datetime.datetime(2015, 3, 10, 0, 0)),\n",
       " (u'1014', datetime.datetime(2015, 7, 18, 0, 0)),\n",
       " (u'1015', datetime.datetime(2014, 12, 3, 0, 0)),\n",
       " (u'528', datetime.datetime(2015, 4, 3, 0, 0)),\n",
       " (u'1011', datetime.datetime(2015, 4, 8, 0, 0)),\n",
       " (u'1013', datetime.datetime(2015, 4, 1, 0, 0)),\n",
       " (u'1235', datetime.datetime(2015, 8, 12, 0, 0)),\n",
       " (u'1236', datetime.datetime(2014, 12, 5, 0, 0)),\n",
       " (u'1231', datetime.datetime(2015, 7, 9, 0, 0)),\n",
       " (u'443', datetime.datetime(2014, 11, 10, 0, 0)),\n",
       " (u'442', datetime.datetime(2015, 5, 14, 0, 0)),\n",
       " (u'441', datetime.datetime(2014, 11, 12, 0, 0)),\n",
       " (u'440', datetime.datetime(2014, 11, 11, 0, 0)),\n",
       " (u'447', datetime.datetime(2015, 4, 24, 0, 0)),\n",
       " (u'446', datetime.datetime(2015, 1, 7, 0, 0)),\n",
       " (u'445', datetime.datetime(2015, 5, 13, 0, 0)),\n",
       " (u'444', datetime.datetime(2015, 4, 8, 0, 0)),\n",
       " (u'47', datetime.datetime(2015, 7, 16, 0, 0)),\n",
       " (u'108', datetime.datetime(2015, 4, 20, 0, 0)),\n",
       " (u'109', datetime.datetime(2015, 5, 6, 0, 0)),\n",
       " (u'598', datetime.datetime(2015, 1, 12, 0, 0)),\n",
       " (u'103', datetime.datetime(2015, 1, 7, 0, 0)),\n",
       " (u'100', datetime.datetime(2015, 2, 5, 0, 0)),\n",
       " (u'101', datetime.datetime(2014, 11, 12, 0, 0)),\n",
       " (u'106', datetime.datetime(2015, 3, 10, 0, 0)),\n",
       " (u'107', datetime.datetime(2015, 4, 24, 0, 0)),\n",
       " (u'104', datetime.datetime(2015, 4, 10, 0, 0)),\n",
       " (u'105', datetime.datetime(2015, 4, 7, 0, 0)),\n",
       " (u'1262', datetime.datetime(2015, 6, 9, 0, 0)),\n",
       " (u'900', datetime.datetime(2015, 5, 11, 0, 0)),\n",
       " (u'38', datetime.datetime(2014, 11, 14, 0, 0)),\n",
       " (u'906', datetime.datetime(2015, 3, 10, 0, 0)),\n",
       " (u'905', datetime.datetime(2015, 1, 8, 0, 0)),\n",
       " (u'33', datetime.datetime(2015, 1, 12, 0, 0)),\n",
       " (u'32', datetime.datetime(2015, 1, 8, 0, 0)),\n",
       " (u'31', datetime.datetime(2015, 3, 10, 0, 0)),\n",
       " (u'909', datetime.datetime(2014, 12, 5, 0, 0)),\n",
       " (u'37', datetime.datetime(2014, 11, 14, 0, 0)),\n",
       " (u'36', datetime.datetime(2015, 5, 13, 0, 0)),\n",
       " (u'35', datetime.datetime(2015, 2, 8, 0, 0)),\n",
       " (u'34', datetime.datetime(2015, 2, 3, 0, 0)),\n",
       " (u'1212', datetime.datetime(2015, 7, 19, 0, 0)),\n",
       " (u'640', datetime.datetime(2015, 4, 1, 0, 0)),\n",
       " (u'643', datetime.datetime(2015, 4, 18, 0, 0)),\n",
       " (u'642', datetime.datetime(2015, 1, 11, 0, 0)),\n",
       " (u'645', datetime.datetime(2015, 2, 9, 0, 0)),\n",
       " (u'1244', datetime.datetime(2015, 5, 17, 0, 0)),\n",
       " (u'1247', datetime.datetime(2015, 3, 5, 0, 0)),\n",
       " (u'439', datetime.datetime(2015, 3, 10, 0, 0)),\n",
       " (u'649', datetime.datetime(2014, 11, 10, 0, 0)),\n",
       " (u'1248', datetime.datetime(2015, 4, 6, 0, 0)),\n",
       " (u'434', datetime.datetime(2015, 1, 12, 0, 0)),\n",
       " (u'435', datetime.datetime(2015, 2, 6, 0, 0)),\n",
       " (u'432', datetime.datetime(2015, 3, 9, 0, 0)),\n",
       " (u'433', datetime.datetime(2015, 4, 8, 0, 0)),\n",
       " (u'430', datetime.datetime(2015, 7, 10, 0, 0)),\n",
       " (u'431', datetime.datetime(2014, 11, 10, 0, 0)),\n",
       " (u'753', datetime.datetime(2015, 3, 5, 0, 0)),\n",
       " (u'339', datetime.datetime(2015, 4, 1, 0, 0)),\n",
       " (u'338', datetime.datetime(2015, 5, 11, 0, 0)),\n",
       " (u'335', datetime.datetime(2014, 11, 12, 0, 0)),\n",
       " (u'334', datetime.datetime(2015, 3, 10, 0, 0)),\n",
       " (u'337', datetime.datetime(2015, 2, 10, 0, 0)),\n",
       " (u'336', datetime.datetime(2014, 11, 10, 0, 0)),\n",
       " (u'331', datetime.datetime(2015, 5, 11, 0, 0)),\n",
       " (u'45', datetime.datetime(2015, 3, 10, 0, 0)),\n",
       " (u'333', datetime.datetime(2015, 4, 1, 0, 0)),\n",
       " (u'332', datetime.datetime(2015, 8, 11, 0, 0)),\n",
       " (u'89', datetime.datetime(2015, 5, 7, 0, 0)),\n",
       " (u'559', datetime.datetime(2015, 5, 7, 0, 0)),\n",
       " (u'1151', datetime.datetime(2015, 5, 11, 0, 0)),\n",
       " (u'855', datetime.datetime(2014, 11, 14, 0, 0)),\n",
       " (u'856', datetime.datetime(2015, 7, 18, 0, 0)),\n",
       " (u'857', datetime.datetime(2015, 4, 8, 0, 0)),\n",
       " (u'851', datetime.datetime(2015, 8, 22, 0, 0)),\n",
       " (u'852', datetime.datetime(2015, 5, 12, 0, 0)),\n",
       " (u'0', datetime.datetime(2015, 1, 9, 0, 0)),\n",
       " (u'249', datetime.datetime(2015, 5, 12, 0, 0)),\n",
       " (u'858', datetime.datetime(2015, 5, 12, 0, 0)),\n",
       " (u'859', datetime.datetime(2015, 1, 11, 0, 0)),\n",
       " (u'748', datetime.datetime(2015, 6, 8, 0, 0)),\n",
       " (u'6', datetime.datetime(2015, 6, 5, 0, 0)),\n",
       " (u'39', datetime.datetime(2015, 7, 17, 0, 0)),\n",
       " (u'99', datetime.datetime(2015, 3, 10, 0, 0)),\n",
       " (u'98', datetime.datetime(2015, 4, 2, 0, 0)),\n",
       " (u'91', datetime.datetime(2015, 3, 10, 0, 0)),\n",
       " (u'90', datetime.datetime(2015, 4, 1, 0, 0)),\n",
       " (u'93', datetime.datetime(2015, 1, 7, 0, 0)),\n",
       " (u'92', datetime.datetime(2014, 11, 12, 0, 0)),\n",
       " (u'94', datetime.datetime(2015, 4, 24, 0, 0)),\n",
       " (u'97', datetime.datetime(2015, 4, 8, 0, 0)),\n",
       " (u'96', datetime.datetime(2014, 11, 17, 0, 0)),\n",
       " (u'1216', datetime.datetime(2015, 7, 16, 0, 0)),\n",
       " (u'314', datetime.datetime(2015, 5, 11, 0, 0)),\n",
       " (u'519', datetime.datetime(2015, 5, 11, 0, 0)),\n",
       " (u'153', datetime.datetime(2015, 4, 1, 0, 0)),\n",
       " (u'742', datetime.datetime(2015, 8, 14, 0, 0)),\n",
       " (u'743', datetime.datetime(2014, 12, 9, 0, 0)),\n",
       " (u'744', datetime.datetime(2014, 11, 14, 0, 0)),\n",
       " (u'558', datetime.datetime(2015, 4, 1, 0, 0)),\n",
       " (u'746', datetime.datetime(2015, 2, 5, 0, 0)),\n",
       " (u'747', datetime.datetime(2015, 4, 2, 0, 0)),\n",
       " (u'555', datetime.datetime(2015, 4, 9, 0, 0)),\n",
       " (u'554', datetime.datetime(2015, 6, 7, 0, 0)),\n",
       " (u'557', datetime.datetime(2015, 3, 10, 0, 0)),\n",
       " (u'556', datetime.datetime(2015, 5, 12, 0, 0)),\n",
       " (u'551', datetime.datetime(2015, 4, 24, 0, 0)),\n",
       " (u'550', datetime.datetime(2015, 5, 28, 0, 0)),\n",
       " (u'553', datetime.datetime(2014, 11, 10, 0, 0)),\n",
       " (u'552', datetime.datetime(2015, 8, 14, 0, 0)),\n",
       " (u'238', datetime.datetime(2015, 7, 13, 0, 0)),\n",
       " (u'239', datetime.datetime(2015, 3, 4, 0, 0)),\n",
       " (u'234', datetime.datetime(2014, 11, 11, 0, 0)),\n",
       " (u'235', datetime.datetime(2015, 5, 11, 0, 0)),\n",
       " (u'236', datetime.datetime(2015, 5, 10, 0, 0)),\n",
       " (u'237', datetime.datetime(2015, 5, 10, 0, 0)),\n",
       " (u'230', datetime.datetime(2014, 11, 10, 0, 0)),\n",
       " (u'231', datetime.datetime(2014, 11, 14, 0, 0)),\n",
       " (u'232', datetime.datetime(2015, 1, 8, 0, 0)),\n",
       " (u'233', datetime.datetime(2015, 3, 6, 0, 0)),\n",
       " (u'1199', datetime.datetime(2014, 12, 8, 0, 0)),\n",
       " (u'1198', datetime.datetime(2015, 3, 4, 0, 0)),\n",
       " (u'1052', datetime.datetime(2015, 5, 12, 0, 0)),\n",
       " (u'1053', datetime.datetime(2015, 1, 11, 0, 0)),\n",
       " (u'1054', datetime.datetime(2015, 4, 7, 0, 0)),\n",
       " (u'1055', datetime.datetime(2015, 5, 8, 0, 0)),\n",
       " (u'1056', datetime.datetime(2015, 8, 12, 0, 0)),\n",
       " (u'1058', datetime.datetime(2015, 3, 10, 0, 0)),\n",
       " (u'992', datetime.datetime(2015, 7, 17, 0, 0)),\n",
       " (u'1194', datetime.datetime(2015, 3, 11, 0, 0)),\n",
       " (u'1', datetime.datetime(2015, 5, 6, 0, 0)),\n",
       " (u'614', datetime.datetime(2015, 3, 6, 0, 0)),\n",
       " (u'155', datetime.datetime(2014, 11, 14, 0, 0)),\n",
       " (u'1099', datetime.datetime(2015, 5, 11, 0, 0)),\n",
       " (u'146', datetime.datetime(2015, 4, 24, 0, 0)),\n",
       " (u'147', datetime.datetime(2015, 2, 3, 0, 0)),\n",
       " (u'618', datetime.datetime(2014, 12, 5, 0, 0)),\n",
       " (u'1174', datetime.datetime(2015, 2, 3, 0, 0)),\n",
       " (u'1173', datetime.datetime(2015, 5, 8, 0, 0)),\n",
       " (u'143', datetime.datetime(2015, 2, 9, 0, 0)),\n",
       " (u'140', datetime.datetime(2015, 1, 14, 0, 0)),\n",
       " (u'141', datetime.datetime(2015, 3, 7, 0, 0)),\n",
       " (u'612', datetime.datetime(2014, 11, 10, 0, 0)),\n",
       " (u'613', datetime.datetime(2014, 12, 5, 0, 0)),\n",
       " (u'610', datetime.datetime(2015, 1, 7, 0, 0)),\n",
       " (u'611', datetime.datetime(2014, 12, 8, 0, 0)),\n",
       " (u'616', datetime.datetime(2015, 5, 28, 0, 0)),\n",
       " (u'617', datetime.datetime(2014, 11, 12, 0, 0)),\n",
       " (u'148', datetime.datetime(2015, 4, 1, 0, 0)),\n",
       " (u'1277', datetime.datetime(2015, 1, 14, 0, 0)),\n",
       " (u'1007', datetime.datetime(2015, 5, 12, 0, 0)),\n",
       " (u'912', datetime.datetime(2015, 6, 6, 0, 0)),\n",
       " (u'615', datetime.datetime(2015, 3, 5, 0, 0)),\n",
       " (u'513', datetime.datetime(2015, 5, 28, 0, 0)),\n",
       " (u'1285', datetime.datetime(2015, 4, 7, 0, 0)),\n",
       " (u'1287', datetime.datetime(2015, 3, 10, 0, 0)),\n",
       " (u'948', datetime.datetime(2015, 5, 6, 0, 0)),\n",
       " (u'1282', datetime.datetime(2015, 5, 10, 0, 0)),\n",
       " (u'946', datetime.datetime(2015, 8, 11, 0, 0)),\n",
       " (u'1289', datetime.datetime(2014, 12, 4, 0, 0)),\n",
       " (u'404', datetime.datetime(2015, 4, 8, 0, 0)),\n",
       " (u'941', datetime.datetime(2015, 3, 10, 0, 0)),\n",
       " (u'689', datetime.datetime(2015, 7, 17, 0, 0)),\n",
       " (u'1001', datetime.datetime(2015, 7, 9, 0, 0)),\n",
       " (u'687', datetime.datetime(2015, 7, 20, 0, 0)),\n",
       " (u'1000', datetime.datetime(2015, 7, 11, 0, 0)),\n",
       " (u'682', datetime.datetime(2015, 4, 8, 0, 0)),\n",
       " (u'458', datetime.datetime(2015, 4, 6, 0, 0)),\n",
       " (u'1302', datetime.datetime(2015, 7, 18, 0, 0)),\n",
       " (u'1303', datetime.datetime(2015, 4, 8, 0, 0)),\n",
       " (u'133', datetime.datetime(2015, 6, 8, 0, 0)),\n",
       " (u'132', datetime.datetime(2015, 3, 4, 0, 0)),\n",
       " (u'131', datetime.datetime(2014, 11, 14, 0, 0)),\n",
       " (u'130', datetime.datetime(2015, 4, 1, 0, 0)),\n",
       " (u'498', datetime.datetime(2015, 7, 9, 0, 0)),\n",
       " (u'499', datetime.datetime(2015, 2, 6, 0, 0)),\n",
       " (u'135', datetime.datetime(2014, 11, 14, 0, 0)),\n",
       " (u'134', datetime.datetime(2015, 2, 5, 0, 0)),\n",
       " (u'494', datetime.datetime(2015, 2, 9, 0, 0)),\n",
       " (u'495', datetime.datetime(2014, 12, 4, 0, 0)),\n",
       " (u'139', datetime.datetime(2015, 3, 6, 0, 0)),\n",
       " (u'138', datetime.datetime(2015, 4, 8, 0, 0)),\n",
       " (u'490', datetime.datetime(2015, 5, 13, 0, 0)),\n",
       " (u'491', datetime.datetime(2015, 5, 12, 0, 0)),\n",
       " (u'492', datetime.datetime(2015, 3, 10, 0, 0)),\n",
       " (u'493', datetime.datetime(2015, 2, 5, 0, 0)),\n",
       " (u'24', datetime.datetime(2014, 12, 3, 0, 0)),\n",
       " (u'25', datetime.datetime(2015, 5, 12, 0, 0)),\n",
       " (u'26', datetime.datetime(2015, 2, 11, 0, 0)),\n",
       " (u'27', datetime.datetime(2015, 5, 11, 0, 0)),\n",
       " (u'20', datetime.datetime(2015, 5, 11, 0, 0)),\n",
       " (u'21', datetime.datetime(2015, 7, 17, 0, 0)),\n",
       " (u'22', datetime.datetime(2015, 4, 3, 0, 0)),\n",
       " (u'23', datetime.datetime(2014, 11, 10, 0, 0)),\n",
       " (u'1243', datetime.datetime(2014, 11, 10, 0, 0)),\n",
       " (u'1220', datetime.datetime(2014, 11, 10, 0, 0)),\n",
       " (u'28', datetime.datetime(2015, 1, 12, 0, 0)),\n",
       " (u'29', datetime.datetime(2015, 7, 16, 0, 0)),\n",
       " (u'407', datetime.datetime(2015, 5, 6, 0, 0)),\n",
       " (u'406', datetime.datetime(2015, 5, 10, 0, 0)),\n",
       " (u'939', datetime.datetime(2015, 4, 24, 0, 0)),\n",
       " (u'938', datetime.datetime(2014, 11, 14, 0, 0)),\n",
       " (u'403', datetime.datetime(2015, 7, 16, 0, 0)),\n",
       " (u'402', datetime.datetime(2015, 3, 10, 0, 0)),\n",
       " (u'401', datetime.datetime(2015, 4, 24, 0, 0)),\n",
       " (u'400', datetime.datetime(2015, 4, 1, 0, 0)),\n",
       " (u'932', datetime.datetime(2014, 12, 9, 0, 0)),\n",
       " (u'931', datetime.datetime(2015, 8, 11, 0, 0)),\n",
       " (u'937', datetime.datetime(2015, 5, 6, 0, 0)),\n",
       " (u'629', datetime.datetime(2015, 6, 9, 0, 0)),\n",
       " (u'409', datetime.datetime(2015, 3, 6, 0, 0)),\n",
       " (u'408', datetime.datetime(2015, 4, 1, 0, 0)),\n",
       " (u'628', datetime.datetime(2015, 6, 9, 0, 0)),\n",
       " (u'414', datetime.datetime(2015, 6, 7, 0, 0)),\n",
       " (u'158', datetime.datetime(2015, 4, 4, 0, 0)),\n",
       " (u'457', datetime.datetime(2015, 3, 10, 0, 0)),\n",
       " (u'183', datetime.datetime(2015, 4, 1, 0, 0)),\n",
       " (u'379', datetime.datetime(2015, 4, 7, 0, 0)),\n",
       " (u'378', datetime.datetime(2015, 3, 10, 0, 0)),\n",
       " (u'228', datetime.datetime(2015, 5, 7, 0, 0)),\n",
       " (u'829', datetime.datetime(2014, 11, 15, 0, 0)),\n",
       " (u'828', datetime.datetime(2015, 3, 9, 0, 0)),\n",
       " (u'371', datetime.datetime(2015, 1, 13, 0, 0)),\n",
       " (u'824', datetime.datetime(2015, 2, 10, 0, 0)),\n",
       " (u'373', datetime.datetime(2015, 1, 12, 0, 0)),\n",
       " (u'372', datetime.datetime(2015, 3, 6, 0, 0)),\n",
       " (u'375', datetime.datetime(2015, 3, 9, 0, 0)),\n",
       " (u'374', datetime.datetime(2015, 2, 6, 0, 0)),\n",
       " (u'377', datetime.datetime(2014, 12, 5, 0, 0)),\n",
       " (u'822', datetime.datetime(2015, 7, 18, 0, 0)),\n",
       " (u'1177', datetime.datetime(2015, 3, 11, 0, 0)),\n",
       " (u'709', datetime.datetime(2015, 2, 8, 0, 0)),\n",
       " (u'1176', datetime.datetime(2015, 8, 12, 0, 0)),\n",
       " (u'704', datetime.datetime(2015, 5, 6, 0, 0)),\n",
       " (u'705', datetime.datetime(2015, 4, 8, 0, 0)),\n",
       " (u'706', datetime.datetime(2015, 4, 7, 0, 0)),\n",
       " (u'144', datetime.datetime(2015, 3, 6, 0, 0)),\n",
       " (u'702', datetime.datetime(2015, 3, 10, 0, 0)),\n",
       " (u'393', datetime.datetime(2015, 7, 18, 0, 0)),\n",
       " (u'392', datetime.datetime(2015, 4, 2, 0, 0)),\n",
       " (u'88', datetime.datetime(2015, 4, 1, 0, 0)),\n",
       " (u'390', datetime.datetime(2014, 11, 10, 0, 0)),\n",
       " (u'397', datetime.datetime(2015, 4, 1, 0, 0)),\n",
       " (u'396', datetime.datetime(2015, 4, 24, 0, 0)),\n",
       " (u'395', datetime.datetime(2015, 4, 8, 0, 0)),\n",
       " (u'394', datetime.datetime(2014, 11, 10, 0, 0)),\n",
       " (u'82', datetime.datetime(2015, 3, 5, 0, 0)),\n",
       " (u'181', datetime.datetime(2015, 3, 10, 0, 0)),\n",
       " (u'399', datetime.datetime(2015, 5, 12, 0, 0)),\n",
       " (u'81', datetime.datetime(2014, 11, 10, 0, 0)),\n",
       " (u'86', datetime.datetime(2015, 4, 2, 0, 0)),\n",
       " (u'87', datetime.datetime(2015, 1, 12, 0, 0)),\n",
       " (u'84', datetime.datetime(2015, 5, 6, 0, 0)),\n",
       " (u'85', datetime.datetime(2014, 11, 11, 0, 0)),\n",
       " (u'797', datetime.datetime(2015, 4, 24, 0, 0)),\n",
       " (u'796', datetime.datetime(2015, 4, 7, 0, 0)),\n",
       " (u'794', datetime.datetime(2015, 8, 13, 0, 0)),\n",
       " (u'793', datetime.datetime(2015, 4, 8, 0, 0)),\n",
       " (u'792', datetime.datetime(2015, 2, 9, 0, 0)),\n",
       " (u'791', datetime.datetime(2015, 1, 8, 0, 0)),\n",
       " (u'1170', datetime.datetime(2015, 4, 5, 0, 0)),\n",
       " (u'798', datetime.datetime(2015, 7, 19, 0, 0)),\n",
       " (u'651', datetime.datetime(2015, 4, 6, 0, 0)),\n",
       " (u'7', datetime.datetime(2015, 5, 12, 0, 0)),\n",
       " (u'854', datetime.datetime(2015, 8, 23, 0, 0)),\n",
       " (u'586', datetime.datetime(2015, 3, 10, 0, 0)),\n",
       " (u'587', datetime.datetime(2015, 5, 28, 0, 0)),\n",
       " (u'584', datetime.datetime(2015, 3, 10, 0, 0)),\n",
       " (u'585', datetime.datetime(2015, 4, 1, 0, 0)),\n",
       " (u'582', datetime.datetime(2014, 11, 10, 0, 0)),\n",
       " (u'583', datetime.datetime(2014, 12, 8, 0, 0)),\n",
       " (u'580', datetime.datetime(2014, 11, 10, 0, 0)),\n",
       " (u'581', datetime.datetime(2014, 12, 7, 0, 0)),\n",
       " (u'1274', datetime.datetime(2015, 7, 8, 0, 0)),\n",
       " (u'1131', datetime.datetime(2015, 7, 16, 0, 0)),\n",
       " (u'1130', datetime.datetime(2014, 12, 3, 0, 0)),\n",
       " (u'1136', datetime.datetime(2015, 8, 18, 0, 0)),\n",
       " (u'588', datetime.datetime(2015, 4, 2, 0, 0)),\n",
       " (u'589', datetime.datetime(2015, 4, 8, 0, 0)),\n",
       " (u'245', datetime.datetime(2014, 11, 14, 0, 0)),\n",
       " (u'244', datetime.datetime(2014, 12, 4, 0, 0)),\n",
       " (u'246', datetime.datetime(2015, 4, 1, 0, 0)),\n",
       " (u'241', datetime.datetime(2014, 12, 8, 0, 0)),\n",
       " (u'240', datetime.datetime(2015, 4, 24, 0, 0)),\n",
       " (u'243', datetime.datetime(2014, 11, 16, 0, 0)),\n",
       " (u'242', datetime.datetime(2015, 5, 11, 0, 0)),\n",
       " (u'149', datetime.datetime(2015, 3, 11, 0, 0)),\n",
       " (u'606', datetime.datetime(2015, 4, 8, 0, 0)),\n",
       " (u'248', datetime.datetime(2015, 6, 9, 0, 0)),\n",
       " (u'1298', datetime.datetime(2015, 8, 11, 0, 0)),\n",
       " (u'924', datetime.datetime(2015, 8, 11, 0, 0)),\n",
       " (u'391', datetime.datetime(2015, 2, 10, 0, 0)),\n",
       " (u'518', datetime.datetime(2015, 6, 8, 0, 0)),\n",
       " (u'1009', datetime.datetime(2014, 12, 5, 0, 0)),\n",
       " (u'511', datetime.datetime(2015, 5, 11, 0, 0)),\n",
       " (u'510', datetime.datetime(2015, 2, 5, 0, 0)),\n",
       " (u'601', datetime.datetime(2015, 3, 10, 0, 0)),\n",
       " (u'512', datetime.datetime(2014, 11, 10, 0, 0)),\n",
       " (u'515', datetime.datetime(2015, 1, 8, 0, 0)),\n",
       " (u'1002', datetime.datetime(2015, 5, 7, 0, 0)),\n",
       " (u'517', datetime.datetime(2015, 3, 6, 0, 0)),\n",
       " (u'516', datetime.datetime(2015, 5, 11, 0, 0)),\n",
       " (u'623', datetime.datetime(2015, 1, 8, 0, 0)),\n",
       " (u'622', datetime.datetime(2015, 1, 8, 0, 0)),\n",
       " (u'621', datetime.datetime(2015, 5, 12, 0, 0)),\n",
       " (u'620', datetime.datetime(2014, 11, 10, 0, 0)),\n",
       " (u'627', datetime.datetime(2014, 11, 16, 0, 0)),\n",
       " (u'626', datetime.datetime(2015, 3, 4, 0, 0)),\n",
       " (u'625', datetime.datetime(2015, 4, 2, 0, 0)),\n",
       " (u'624', datetime.datetime(2015, 3, 4, 0, 0)),\n",
       " (u'450', datetime.datetime(2014, 12, 7, 0, 0)),\n",
       " (u'451', datetime.datetime(2015, 4, 1, 0, 0)),\n",
       " (u'452', datetime.datetime(2015, 6, 4, 0, 0)),\n",
       " (u'453', datetime.datetime(2014, 12, 8, 0, 0)),\n",
       " (u'454', datetime.datetime(2015, 5, 12, 0, 0)),\n",
       " (u'455', datetime.datetime(2015, 4, 1, 0, 0)),\n",
       " (u'456', datetime.datetime(2015, 6, 7, 0, 0)),\n",
       " (u'1228', datetime.datetime(2015, 8, 19, 0, 0)),\n",
       " (u'179', datetime.datetime(2014, 11, 10, 0, 0)),\n",
       " (u'178', datetime.datetime(2014, 11, 17, 0, 0)),\n",
       " (u'600', datetime.datetime(2015, 4, 7, 0, 0)),\n",
       " (u'199', datetime.datetime(2015, 5, 30, 0, 0)),\n",
       " (u'175', datetime.datetime(2015, 5, 9, 0, 0)),\n",
       " (u'174', datetime.datetime(2014, 12, 3, 0, 0)),\n",
       " (u'173', datetime.datetime(2015, 5, 7, 0, 0)),\n",
       " (u'172', datetime.datetime(2015, 3, 10, 0, 0)),\n",
       " (u'171', datetime.datetime(2015, 3, 8, 0, 0)),\n",
       " (u'170', datetime.datetime(2015, 1, 9, 0, 0)),\n",
       " (u'977', datetime.datetime(2015, 5, 12, 0, 0)),\n",
       " (u'976', datetime.datetime(2014, 12, 4, 0, 0)),\n",
       " (u'975', datetime.datetime(2015, 8, 23, 0, 0)),\n",
       " (u'973', datetime.datetime(2015, 7, 13, 0, 0)),\n",
       " (u'972', datetime.datetime(2015, 3, 10, 0, 0)),\n",
       " (u'657', datetime.datetime(2015, 3, 10, 0, 0)),\n",
       " (u'1080', datetime.datetime(2015, 7, 17, 0, 0)),\n",
       " (u'979', datetime.datetime(2015, 7, 17, 0, 0)),\n",
       " (u'656', datetime.datetime(2015, 5, 12, 0, 0)),\n",
       " (u'599', datetime.datetime(2015, 4, 2, 0, 0)),\n",
       " (u'180', datetime.datetime(2015, 4, 8, 0, 0)),\n",
       " (u'655', datetime.datetime(2014, 11, 10, 0, 0)),\n",
       " (u'186', datetime.datetime(2014, 11, 14, 0, 0)),\n",
       " (u'187', datetime.datetime(2014, 11, 12, 0, 0)),\n",
       " (u'650', datetime.datetime(2015, 3, 4, 0, 0)),\n",
       " (u'194', datetime.datetime(2014, 11, 10, 0, 0)),\n",
       " (u'652', datetime.datetime(2015, 3, 10, 0, 0)),\n",
       " (u'188', datetime.datetime(2014, 11, 16, 0, 0)),\n",
       " (u'189', datetime.datetime(2015, 5, 12, 0, 0)),\n",
       " (u'653', datetime.datetime(2015, 7, 8, 0, 0)),\n",
       " (u'196', datetime.datetime(2015, 6, 3, 0, 0)),\n",
       " (u'184', datetime.datetime(2015, 5, 12, 0, 0)),\n",
       " (u'191', datetime.datetime(2015, 3, 10, 0, 0)),\n",
       " (u'185', datetime.datetime(2015, 4, 1, 0, 0)),\n",
       " (u'190', datetime.datetime(2015, 4, 8, 0, 0)),\n",
       " (u'602', datetime.datetime(2015, 2, 6, 0, 0)),\n",
       " (u'1089', datetime.datetime(2015, 4, 6, 0, 0)),\n",
       " (u'192', datetime.datetime(2015, 5, 9, 0, 0)),\n",
       " (u'1227', datetime.datetime(2015, 6, 9, 0, 0)),\n",
       " (u'11', datetime.datetime(2015, 4, 24, 0, 0)),\n",
       " (u'10', datetime.datetime(2014, 11, 10, 0, 0)),\n",
       " (u'13', datetime.datetime(2015, 4, 1, 0, 0)),\n",
       " (u'12', datetime.datetime(2014, 11, 10, 0, 0)),\n",
       " (u'15', datetime.datetime(2015, 3, 4, 0, 0)),\n",
       " (u'14', datetime.datetime(2015, 6, 3, 0, 0)),\n",
       " (u'17', datetime.datetime(2015, 5, 11, 0, 0)),\n",
       " (u'16', datetime.datetime(2015, 5, 13, 0, 0)),\n",
       " (u'19', datetime.datetime(2015, 4, 6, 0, 0)),\n",
       " (u'18', datetime.datetime(2014, 11, 10, 0, 0)),\n",
       " (u'864', datetime.datetime(2014, 11, 10, 0, 0)),\n",
       " (u'867', datetime.datetime(2014, 12, 9, 0, 0)),\n",
       " (u'866', datetime.datetime(2014, 12, 7, 0, 0)),\n",
       " (u'1226', datetime.datetime(2015, 4, 8, 0, 0)),\n",
       " (u'883', datetime.datetime(2015, 7, 19, 0, 0)),\n",
       " (u'882', datetime.datetime(2014, 11, 10, 0, 0)),\n",
       " (u'880', datetime.datetime(2015, 8, 23, 0, 0)),\n",
       " (u'887', datetime.datetime(2015, 6, 8, 0, 0)),\n",
       " (u'885', datetime.datetime(2015, 7, 16, 0, 0)),\n",
       " (u'569', datetime.datetime(2015, 6, 2, 0, 0)),\n",
       " (u'62', datetime.datetime(2014, 12, 8, 0, 0)),\n",
       " (u'888', datetime.datetime(2015, 6, 9, 0, 0)),\n",
       " (u'940', datetime.datetime(2015, 8, 13, 0, 0)),\n",
       " (u'648', datetime.datetime(2015, 5, 11, 0, 0)),\n",
       " (u'1115', datetime.datetime(2015, 4, 8, 0, 0)),\n",
       " (u'755', datetime.datetime(2014, 11, 10, 0, 0)),\n",
       " (u'63', datetime.datetime(2015, 5, 28, 0, 0)),\n",
       " (u'1081', datetime.datetime(2015, 6, 8, 0, 0)),\n",
       " (u'322', datetime.datetime(2015, 3, 10, 0, 0)),\n",
       " (u'323', datetime.datetime(2014, 11, 10, 0, 0)),\n",
       " (u'320', datetime.datetime(2015, 5, 7, 0, 0)),\n",
       " (u'321', datetime.datetime(2015, 7, 9, 0, 0)),\n",
       " (u'326', datetime.datetime(2015, 7, 9, 0, 0)),\n",
       " (u'327', datetime.datetime(2014, 11, 14, 0, 0)),\n",
       " (u'324', datetime.datetime(2015, 7, 9, 0, 0)),\n",
       " (u'325', datetime.datetime(2015, 7, 19, 0, 0)),\n",
       " (u'1224', datetime.datetime(2015, 7, 20, 0, 0)),\n",
       " (u'328', datetime.datetime(2014, 11, 10, 0, 0)),\n",
       " (u'329', datetime.datetime(2015, 4, 8, 0, 0)),\n",
       " (u'562', datetime.datetime(2014, 11, 10, 0, 0)),\n",
       " (u'201', datetime.datetime(2015, 4, 24, 0, 0)),\n",
       " (u'200', datetime.datetime(2015, 5, 12, 0, 0)),\n",
       " (u'203', datetime.datetime(2015, 5, 12, 0, 0)),\n",
       " (u'202', datetime.datetime(2014, 12, 3, 0, 0)),\n",
       " (u'771', datetime.datetime(2015, 5, 13, 0, 0)),\n",
       " (u'204', datetime.datetime(2014, 11, 10, 0, 0)),\n",
       " (u'207', datetime.datetime(2015, 1, 7, 0, 0)),\n",
       " (u'206', datetime.datetime(2014, 11, 10, 0, 0)),\n",
       " (u'209', datetime.datetime(2014, 12, 5, 0, 0)),\n",
       " (u'208', datetime.datetime(2015, 3, 8, 0, 0)),\n",
       " (u'779', datetime.datetime(2015, 5, 10, 0, 0)),\n",
       " (u'778', datetime.datetime(2014, 12, 7, 0, 0)),\n",
       " (u'77', datetime.datetime(2015, 1, 7, 0, 0)),\n",
       " (u'76', datetime.datetime(2015, 1, 15, 0, 0)),\n",
       " (u'75', datetime.datetime(2015, 4, 1, 0, 0)),\n",
       " (u'74', datetime.datetime(2015, 4, 1, 0, 0)),\n",
       " (u'73', datetime.datetime(2015, 5, 28, 0, 0)),\n",
       " (u'72', datetime.datetime(2014, 11, 10, 0, 0)),\n",
       " (u'71', datetime.datetime(2015, 4, 7, 0, 0)),\n",
       " (u'70', datetime.datetime(2015, 2, 9, 0, 0)),\n",
       " (u'79', datetime.datetime(2014, 12, 9, 0, 0)),\n",
       " (u'78', datetime.datetime(2015, 4, 1, 0, 0)),\n",
       " (u'2', datetime.datetime(2015, 6, 8, 0, 0)),\n",
       " (u'1042', datetime.datetime(2015, 5, 28, 0, 0)),\n",
       " (u'1040', datetime.datetime(2015, 5, 12, 0, 0)),\n",
       " (u'1049', datetime.datetime(2015, 2, 10, 0, 0)),\n",
       " (u'1048', datetime.datetime(2015, 3, 11, 0, 0)),\n",
       " (u'805', datetime.datetime(2015, 8, 11, 0, 0)),\n",
       " (u'804', datetime.datetime(2015, 6, 9, 0, 0)),\n",
       " (u'1142', datetime.datetime(2015, 3, 10, 0, 0)),\n",
       " (u'1143', datetime.datetime(2015, 8, 11, 0, 0)),\n",
       " (u'1140', datetime.datetime(2015, 1, 10, 0, 0)),\n",
       " (u'1268', datetime.datetime(2015, 4, 6, 0, 0)),\n",
       " (u'1146', datetime.datetime(2014, 11, 16, 0, 0)),\n",
       " (u'1147', datetime.datetime(2015, 7, 19, 0, 0)),\n",
       " (u'1144', datetime.datetime(2015, 8, 18, 0, 0)),\n",
       " (u'1305', datetime.datetime(2015, 5, 12, 0, 0)),\n",
       " (u'667', datetime.datetime(2014, 12, 9, 0, 0)),\n",
       " (u'666', datetime.datetime(2015, 2, 9, 0, 0)),\n",
       " (u'665', datetime.datetime(2015, 5, 12, 0, 0)),\n",
       " (u'1260', datetime.datetime(2015, 3, 11, 0, 0)),\n",
       " (u'1267', datetime.datetime(2015, 4, 2, 0, 0)),\n",
       " (u'1266', datetime.datetime(2015, 6, 7, 0, 0)),\n",
       " (u'1265', datetime.datetime(2015, 5, 12, 0, 0)),\n",
       " (u'1264', datetime.datetime(2015, 4, 2, 0, 0)),\n",
       " (u'769', datetime.datetime(2015, 4, 3, 0, 0)),\n",
       " (u'1278', datetime.datetime(2015, 7, 17, 0, 0)),\n",
       " (u'692', datetime.datetime(2015, 2, 11, 0, 0)),\n",
       " (u'693', datetime.datetime(2015, 1, 14, 0, 0)),\n",
       " (u'690', datetime.datetime(2015, 4, 8, 0, 0)),\n",
       " (u'696', datetime.datetime(2014, 11, 10, 0, 0)),\n",
       " (u'697', datetime.datetime(2014, 12, 8, 0, 0)),\n",
       " (u'694', datetime.datetime(2015, 7, 10, 0, 0)),\n",
       " (u'698', datetime.datetime(2015, 1, 8, 0, 0)),\n",
       " (u'542', datetime.datetime(2015, 7, 10, 0, 0)),\n",
       " (u'543', datetime.datetime(2015, 4, 1, 0, 0)),\n",
       " (u'540', datetime.datetime(2015, 5, 8, 0, 0)),\n",
       " (u'541', datetime.datetime(2014, 11, 12, 0, 0)),\n",
       " (u'546', datetime.datetime(2014, 12, 5, 0, 0)),\n",
       " (u'547', datetime.datetime(2015, 2, 3, 0, 0)),\n",
       " (u'544', datetime.datetime(2014, 11, 10, 0, 0)),\n",
       " (u'545', datetime.datetime(2015, 5, 28, 0, 0)),\n",
       " (u'8', datetime.datetime(2015, 5, 6, 0, 0)),\n",
       " (u'548', datetime.datetime(2015, 7, 20, 0, 0)),\n",
       " (u'549', datetime.datetime(2014, 12, 3, 0, 0)),\n",
       " (u'68', datetime.datetime(2015, 5, 13, 0, 0)),\n",
       " (u'521', datetime.datetime(2015, 4, 8, 0, 0)),\n",
       " (u'990', datetime.datetime(2015, 8, 23, 0, 0)),\n",
       " (u'868', datetime.datetime(2014, 11, 16, 0, 0)),\n",
       " (u'120', datetime.datetime(2015, 5, 11, 0, 0)),\n",
       " (u'121', datetime.datetime(2015, 6, 7, 0, 0)),\n",
       " (u'122', datetime.datetime(2015, 7, 17, 0, 0)),\n",
       " (u'123', datetime.datetime(2015, 3, 10, 0, 0)),\n",
       " (u'124', datetime.datetime(2015, 5, 31, 0, 0)),\n",
       " (u'125', datetime.datetime(2015, 1, 13, 0, 0)),\n",
       " (u'126', datetime.datetime(2014, 11, 14, 0, 0)),\n",
       " (u'127', datetime.datetime(2015, 4, 24, 0, 0)),\n",
       " (u'128', datetime.datetime(2015, 6, 8, 0, 0)),\n",
       " (u'129', datetime.datetime(2015, 5, 11, 0, 0)),\n",
       " (u'219', datetime.datetime(2015, 6, 6, 0, 0)),\n",
       " (u'176', datetime.datetime(2015, 7, 8, 0, 0)),\n",
       " (u'259', datetime.datetime(2015, 4, 7, 0, 0)),\n",
       " (u'1022', datetime.datetime(2015, 8, 20, 0, 0)),\n",
       " (u'529', datetime.datetime(2015, 2, 3, 0, 0)),\n",
       " (u'928', datetime.datetime(2015, 5, 11, 0, 0)),\n",
       " (u'415', datetime.datetime(2015, 3, 10, 0, 0)),\n",
       " (u'416', datetime.datetime(2015, 4, 8, 0, 0)),\n",
       " (u'417', datetime.datetime(2015, 8, 12, 0, 0)),\n",
       " (u'410', datetime.datetime(2015, 5, 12, 0, 0)),\n",
       " (u'411', datetime.datetime(2015, 4, 8, 0, 0)),\n",
       " (u'412', datetime.datetime(2015, 4, 1, 0, 0)),\n",
       " (u'413', datetime.datetime(2015, 2, 6, 0, 0)),\n",
       " (u'920', datetime.datetime(2015, 4, 12, 0, 0)),\n",
       " (u'137', datetime.datetime(2014, 12, 6, 0, 0)),\n",
       " (u'923', datetime.datetime(2015, 3, 10, 0, 0)),\n",
       " (u'418', datetime.datetime(2015, 1, 11, 0, 0)),\n",
       " (u'419', datetime.datetime(2015, 3, 10, 0, 0)),\n",
       " (u'136', datetime.datetime(2015, 4, 8, 0, 0)),\n",
       " (u'319', datetime.datetime(2014, 12, 30, 0, 0)),\n",
       " (u'318', datetime.datetime(2015, 6, 5, 0, 0)),\n",
       " (u'313', datetime.datetime(2015, 2, 5, 0, 0)),\n",
       " (u'1182', datetime.datetime(2015, 5, 11, 0, 0)),\n",
       " (u'311', datetime.datetime(2014, 11, 16, 0, 0)),\n",
       " (u'310', datetime.datetime(2015, 4, 6, 0, 0)),\n",
       " (u'317', datetime.datetime(2015, 7, 9, 0, 0)),\n",
       " (u'316', datetime.datetime(2014, 12, 6, 0, 0)),\n",
       " (u'315', datetime.datetime(2014, 11, 10, 0, 0)),\n",
       " (u'1028', datetime.datetime(2015, 8, 21, 0, 0)),\n",
       " (u'496', datetime.datetime(2015, 6, 3, 0, 0)),\n",
       " (u'832', datetime.datetime(2015, 7, 16, 0, 0)),\n",
       " (u'833', datetime.datetime(2015, 2, 9, 0, 0)),\n",
       " (u'831', datetime.datetime(2014, 12, 3, 0, 0)),\n",
       " (u'836', datetime.datetime(2015, 7, 16, 0, 0)),\n",
       " (u'834', datetime.datetime(2015, 8, 13, 0, 0)),\n",
       " (u'835', datetime.datetime(2014, 12, 3, 0, 0)),\n",
       " (u'839', datetime.datetime(2014, 11, 13, 0, 0)),\n",
       " (u'808', datetime.datetime(2014, 12, 8, 0, 0)),\n",
       " (u'3', datetime.datetime(2015, 3, 10, 0, 0)),\n",
       " (u'368', datetime.datetime(2014, 11, 10, 0, 0)),\n",
       " (u'369', datetime.datetime(2014, 11, 10, 0, 0)),\n",
       " (u'366', datetime.datetime(2015, 4, 1, 0, 0)),\n",
       " (u'367', datetime.datetime(2014, 11, 11, 0, 0)),\n",
       " (u'364', datetime.datetime(2014, 12, 5, 0, 0)),\n",
       " (u'365', datetime.datetime(2015, 5, 13, 0, 0)),\n",
       " (u'362', datetime.datetime(2015, 2, 5, 0, 0)),\n",
       " (u'363', datetime.datetime(2015, 4, 2, 0, 0)),\n",
       " (u'360', datetime.datetime(2015, 5, 6, 0, 0)),\n",
       " (u'361', datetime.datetime(2015, 5, 13, 0, 0)),\n",
       " (u'218', datetime.datetime(2015, 7, 8, 0, 0)),\n",
       " (u'1050', datetime.datetime(2015, 8, 11, 0, 0)),\n",
       " (u'380', datetime.datetime(2014, 12, 8, 0, 0)),\n",
       " (u'381', datetime.datetime(2015, 2, 9, 0, 0)),\n",
       " (u'382', datetime.datetime(2015, 5, 6, 0, 0)),\n",
       " (u'383', datetime.datetime(2015, 1, 7, 0, 0)),\n",
       " (u'384', datetime.datetime(2015, 6, 8, 0, 0)),\n",
       " (u'385', datetime.datetime(2015, 5, 8, 0, 0)),\n",
       " (u'386', datetime.datetime(2015, 4, 8, 0, 0)),\n",
       " (u'387', datetime.datetime(2015, 4, 24, 0, 0)),\n",
       " (u'388', datetime.datetime(2015, 2, 3, 0, 0)),\n",
       " (u'389', datetime.datetime(2014, 11, 15, 0, 0)),\n",
       " (u'784', datetime.datetime(2015, 8, 17, 0, 0)),\n",
       " (u'785', datetime.datetime(2015, 4, 8, 0, 0)),\n",
       " (u'786', datetime.datetime(2015, 4, 2, 0, 0)),\n",
       " (u'787', datetime.datetime(2014, 11, 16, 0, 0)),\n",
       " (u'780', datetime.datetime(2015, 1, 11, 0, 0)),\n",
       " (u'781', datetime.datetime(2015, 4, 2, 0, 0)),\n",
       " (u'782', datetime.datetime(2015, 7, 17, 0, 0)),\n",
       " (u'605', datetime.datetime(2015, 2, 6, 0, 0)),\n",
       " (u'579', datetime.datetime(2014, 11, 15, 0, 0)),\n",
       " (u'578', datetime.datetime(2015, 4, 2, 0, 0)),\n",
       " (u'604', datetime.datetime(2014, 11, 10, 0, 0)),\n",
       " (u'573', datetime.datetime(2015, 6, 7, 0, 0)),\n",
       " (u'572', datetime.datetime(2015, 5, 28, 0, 0)),\n",
       " (u'571', datetime.datetime(2015, 4, 1, 0, 0)),\n",
       " (u'570', datetime.datetime(2014, 12, 7, 0, 0)),\n",
       " (u'577', datetime.datetime(2015, 2, 5, 0, 0)),\n",
       " (u'576', datetime.datetime(2014, 11, 10, 0, 0)),\n",
       " (u'575', datetime.datetime(2015, 7, 17, 0, 0)),\n",
       " (u'574', datetime.datetime(2015, 4, 24, 0, 0)),\n",
       " (u'60', datetime.datetime(2015, 4, 1, 0, 0)),\n",
       " (u'102', datetime.datetime(2014, 11, 10, 0, 0)),\n",
       " (u'258', datetime.datetime(2014, 11, 10, 0, 0)),\n",
       " (u'152', datetime.datetime(2014, 11, 17, 0, 0)),\n",
       " (u'64', datetime.datetime(2014, 12, 6, 0, 0)),\n",
       " (u'65', datetime.datetime(2014, 11, 16, 0, 0)),\n",
       " (u'66', datetime.datetime(2015, 1, 7, 0, 0)),\n",
       " (u'67', datetime.datetime(2015, 1, 7, 0, 0)),\n",
       " (u'252', datetime.datetime(2015, 5, 12, 0, 0)),\n",
       " (u'253', datetime.datetime(2015, 1, 14, 0, 0)),\n",
       " (u'250', datetime.datetime(2015, 1, 12, 0, 0)),\n",
       " (u'251', datetime.datetime(2015, 4, 8, 0, 0)),\n",
       " (u'256', datetime.datetime(2015, 4, 1, 0, 0)),\n",
       " (u'257', datetime.datetime(2014, 11, 15, 0, 0)),\n",
       " (u'254', datetime.datetime(2014, 11, 14, 0, 0)),\n",
       " (u'154', datetime.datetime(2015, 5, 9, 0, 0)),\n",
       " (u'157', datetime.datetime(2015, 3, 10, 0, 0)),\n",
       " (u'1163', datetime.datetime(2015, 5, 6, 0, 0)),\n",
       " (u'632', datetime.datetime(2015, 4, 7, 0, 0)),\n",
       " (u'405', datetime.datetime(2015, 6, 4, 0, 0)),\n",
       " (u'730', datetime.datetime(2015, 1, 8, 0, 0)),\n",
       " (u'1038', datetime.datetime(2015, 4, 4, 0, 0)),\n",
       " (u'732', datetime.datetime(2015, 1, 12, 0, 0)),\n",
       " (u'735', datetime.datetime(2015, 4, 14, 0, 0)),\n",
       " (u'508', datetime.datetime(2015, 3, 4, 0, 0)),\n",
       " (u'736', datetime.datetime(2014, 12, 4, 0, 0)),\n",
       " (u'1032', datetime.datetime(2015, 6, 8, 0, 0)),\n",
       " (u'507', datetime.datetime(2015, 3, 10, 0, 0)),\n",
       " (u'504', datetime.datetime(2014, 11, 10, 0, 0)),\n",
       " (u'505', datetime.datetime(2015, 3, 7, 0, 0)),\n",
       " (u'502', datetime.datetime(2014, 12, 8, 0, 0)),\n",
       " (u'503', datetime.datetime(2015, 6, 3, 0, 0)),\n",
       " (u'500', datetime.datetime(2015, 2, 3, 0, 0)),\n",
       " (u'501', datetime.datetime(2015, 5, 11, 0, 0)),\n",
       " (u'630', datetime.datetime(2014, 11, 11, 0, 0)),\n",
       " (u'631', datetime.datetime(2015, 5, 8, 0, 0)),\n",
       " (u'1210', datetime.datetime(2015, 2, 7, 0, 0)),\n",
       " (u'1211', datetime.datetime(2015, 3, 6, 0, 0)),\n",
       " (u'469', datetime.datetime(2014, 11, 16, 0, 0)),\n",
       " (u'468', datetime.datetime(2015, 4, 2, 0, 0)),\n",
       " (u'1214', datetime.datetime(2014, 11, 10, 0, 0)),\n",
       " (u'637', datetime.datetime(2015, 5, 6, 0, 0)),\n",
       " (u'465', datetime.datetime(2015, 2, 5, 0, 0)),\n",
       " (u'639', datetime.datetime(2014, 11, 13, 0, 0)),\n",
       " (u'467', datetime.datetime(2015, 1, 10, 0, 0)),\n",
       " (u'466', datetime.datetime(2015, 5, 6, 0, 0)),\n",
       " (u'461', datetime.datetime(2014, 12, 8, 0, 0)),\n",
       " (u'460', datetime.datetime(2015, 5, 7, 0, 0)),\n",
       " (u'463', datetime.datetime(2015, 2, 9, 0, 0)),\n",
       " (u'462', datetime.datetime(2015, 7, 9, 0, 0)),\n",
       " (u'901', datetime.datetime(2015, 7, 17, 0, 0)),\n",
       " (u'168', datetime.datetime(2015, 4, 8, 0, 0)),\n",
       " (u'169', datetime.datetime(2015, 2, 5, 0, 0)),\n",
       " (u'164', datetime.datetime(2015, 7, 16, 0, 0)),\n",
       " (u'165', datetime.datetime(2014, 11, 10, 0, 0)),\n",
       " (u'166', datetime.datetime(2014, 12, 8, 0, 0)),\n",
       " (u'167', datetime.datetime(2015, 4, 24, 0, 0)),\n",
       " (u'160', datetime.datetime(2014, 11, 11, 0, 0)),\n",
       " (u'161', datetime.datetime(2014, 11, 12, 0, 0)),\n",
       " (u'162', datetime.datetime(2015, 5, 11, 0, 0)),\n",
       " (u'163', datetime.datetime(2015, 7, 9, 0, 0)),\n",
       " (u'965', datetime.datetime(2015, 1, 10, 0, 0)),\n",
       " (u'966', datetime.datetime(2015, 3, 10, 0, 0)),\n",
       " (u'967', datetime.datetime(2015, 8, 21, 0, 0)),\n",
       " (u'969', datetime.datetime(2014, 11, 14, 0, 0)),\n",
       " (u'1107', datetime.datetime(2014, 11, 11, 0, 0)),\n",
       " (u'1102', datetime.datetime(2015, 4, 8, 0, 0)),\n",
       " (u'1103', datetime.datetime(2015, 3, 10, 0, 0)),\n",
       " (u'934', datetime.datetime(2015, 1, 11, 0, 0)),\n",
       " (u'686', datetime.datetime(2015, 8, 23, 0, 0)),\n",
       " (u'30', datetime.datetime(2015, 2, 10, 0, 0)),\n",
       " (u'678', datetime.datetime(2015, 1, 8, 0, 0)),\n",
       " (u'514', datetime.datetime(2014, 12, 4, 0, 0)),\n",
       " (u'609', datetime.datetime(2015, 4, 24, 0, 0)),\n",
       " (u'641', datetime.datetime(2015, 4, 7, 0, 0)),\n",
       " (u'877', datetime.datetime(2015, 5, 13, 0, 0)),\n",
       " (u'874', datetime.datetime(2015, 8, 22, 0, 0)),\n",
       " (u'872', datetime.datetime(2015, 3, 6, 0, 0)),\n",
       " (u'873', datetime.datetime(2015, 1, 8, 0, 0)),\n",
       " (u'1242', datetime.datetime(2015, 3, 10, 0, 0)),\n",
       " (u'9', datetime.datetime(2015, 1, 8, 0, 0)),\n",
       " (u'1157', datetime.datetime(2015, 8, 22, 0, 0)),\n",
       " (u'644', datetime.datetime(2015, 5, 13, 0, 0)),\n",
       " (u'893', datetime.datetime(2015, 8, 18, 0, 0)),\n",
       " (u'647', datetime.datetime(2015, 5, 6, 0, 0)),\n",
       " (u'896', datetime.datetime(2015, 4, 8, 0, 0)),\n",
       " (u'897', datetime.datetime(2015, 6, 8, 0, 0)),\n",
       " (u'670', datetime.datetime(2015, 1, 8, 0, 0)),\n",
       " (u'1087', datetime.datetime(2015, 7, 20, 0, 0)),\n",
       " (u'646', datetime.datetime(2015, 6, 4, 0, 0)),\n",
       " (u'1150', datetime.datetime(2015, 7, 16, 0, 0)),\n",
       " (u'255', datetime.datetime(2015, 5, 6, 0, 0)),\n",
       " (u'436', datetime.datetime(2015, 2, 8, 0, 0)),\n",
       " (u'672', datetime.datetime(2014, 11, 14, 0, 0)),\n",
       " (u'437', datetime.datetime(2015, 4, 2, 0, 0)),\n",
       " (u'673', datetime.datetime(2015, 6, 1, 0, 0)),\n",
       " (u'282', datetime.datetime(2014, 11, 14, 0, 0)),\n",
       " (u'357', datetime.datetime(2015, 1, 11, 0, 0)),\n",
       " (u'356', datetime.datetime(2015, 1, 9, 0, 0)),\n",
       " (u'355', datetime.datetime(2015, 7, 17, 0, 0)),\n",
       " (u'354', datetime.datetime(2014, 11, 10, 0, 0)),\n",
       " (u'353', datetime.datetime(2015, 4, 24, 0, 0)),\n",
       " (u'352', datetime.datetime(2015, 2, 5, 0, 0)),\n",
       " (u'351', datetime.datetime(2015, 3, 8, 0, 0)),\n",
       " (u'350', datetime.datetime(2015, 1, 7, 0, 0)),\n",
       " (u'801', datetime.datetime(2014, 12, 8, 0, 0)),\n",
       " (u'800', datetime.datetime(2015, 3, 4, 0, 0)),\n",
       " (u'1263', datetime.datetime(2015, 8, 16, 0, 0)),\n",
       " (u'806', datetime.datetime(2015, 7, 15, 0, 0)),\n",
       " (u'359', datetime.datetime(2015, 7, 15, 0, 0)),\n",
       " (u'358', datetime.datetime(2014, 12, 5, 0, 0)),\n",
       " (u'216', datetime.datetime(2015, 6, 2, 0, 0)),\n",
       " (u'217', datetime.datetime(2015, 3, 10, 0, 0)),\n",
       " (u'214', datetime.datetime(2015, 1, 12, 0, 0)),\n",
       " (u'215', datetime.datetime(2014, 11, 14, 0, 0)),\n",
       " (u'212', datetime.datetime(2015, 4, 24, 0, 0)),\n",
       " (u'213', datetime.datetime(2015, 7, 14, 0, 0)),\n",
       " (u'210', datetime.datetime(2015, 3, 11, 0, 0)),\n",
       " (u'211', datetime.datetime(2015, 5, 6, 0, 0)),\n",
       " (u'762', datetime.datetime(2015, 6, 8, 0, 0)),\n",
       " (u'955', datetime.datetime(2015, 5, 11, 0, 0)),\n",
       " (u'761', datetime.datetime(2015, 1, 11, 0, 0)),\n",
       " (u'764', datetime.datetime(2015, 7, 17, 0, 0)),\n",
       " (u'43', datetime.datetime(2014, 12, 8, 0, 0)),\n",
       " (u'956', datetime.datetime(2015, 6, 8, 0, 0)),\n",
       " (u'1178', datetime.datetime(2015, 7, 16, 0, 0)),\n",
       " (u'438', datetime.datetime(2015, 7, 17, 0, 0)),\n",
       " (u'1077', datetime.datetime(2014, 12, 8, 0, 0)),\n",
       " (u'1074', datetime.datetime(2015, 3, 10, 0, 0)),\n",
       " (u'1075', datetime.datetime(2015, 6, 9, 0, 0)),\n",
       " (u'1072', datetime.datetime(2015, 4, 2, 0, 0)),\n",
       " (u'1073', datetime.datetime(2015, 1, 7, 0, 0)),\n",
       " (u'1070', datetime.datetime(2015, 7, 19, 0, 0)),\n",
       " (u'1071', datetime.datetime(2015, 1, 14, 0, 0)),\n",
       " (u'289', datetime.datetime(2015, 4, 7, 0, 0)),\n",
       " (u'288', datetime.datetime(2014, 12, 3, 0, 0)),\n",
       " (u'4', datetime.datetime(2015, 5, 12, 0, 0)),\n",
       " (u'281', datetime.datetime(2014, 11, 14, 0, 0)),\n",
       " (u'280', datetime.datetime(2014, 11, 15, 0, 0)),\n",
       " (u'283', datetime.datetime(2014, 11, 15, 0, 0)),\n",
       " (u'1030', datetime.datetime(2015, 5, 11, 0, 0)),\n",
       " (u'285', datetime.datetime(2015, 3, 10, 0, 0)),\n",
       " (u'284', datetime.datetime(2015, 4, 8, 0, 0)),\n",
       " (u'287', datetime.datetime(2015, 5, 11, 0, 0)),\n",
       " (u'286', datetime.datetime(2015, 7, 8, 0, 0)),\n",
       " (u'1094', datetime.datetime(2014, 11, 10, 0, 0)),\n",
       " (u'1095', datetime.datetime(2015, 6, 6, 0, 0)),\n",
       " (u'1096', datetime.datetime(2015, 7, 15, 0, 0)),\n",
       " (u'1090', datetime.datetime(2014, 11, 11, 0, 0)),\n",
       " (u'674', datetime.datetime(2015, 5, 12, 0, 0)),\n",
       " (u'1154', datetime.datetime(2015, 4, 5, 0, 0)),\n",
       " (u'676', datetime.datetime(2015, 4, 13, 0, 0)),\n",
       " (u'1098', datetime.datetime(2014, 11, 10, 0, 0)),\n",
       " (u'671', datetime.datetime(2014, 12, 9, 0, 0)),\n",
       " (u'1153', datetime.datetime(2015, 2, 6, 0, 0)),\n",
       " (u'330', datetime.datetime(2015, 5, 10, 0, 0)),\n",
       " (u'263', datetime.datetime(2015, 8, 12, 0, 0)),\n",
       " (u'262', datetime.datetime(2015, 4, 24, 0, 0)),\n",
       " (u'261', datetime.datetime(2014, 11, 16, 0, 0)),\n",
       " (u'260', datetime.datetime(2015, 5, 11, 0, 0)),\n",
       " (u'267', datetime.datetime(2015, 4, 24, 0, 0)),\n",
       " (u'266', datetime.datetime(2015, 6, 6, 0, 0)),\n",
       " (u'265', datetime.datetime(2014, 12, 4, 0, 0)),\n",
       " (u'264', datetime.datetime(2015, 2, 3, 0, 0)),\n",
       " (u'269', datetime.datetime(2015, 4, 2, 0, 0)),\n",
       " (u'268', datetime.datetime(2015, 4, 3, 0, 0)),\n",
       " (u'182', datetime.datetime(2015, 5, 8, 0, 0)),\n",
       " (u'1082', datetime.datetime(2015, 3, 6, 0, 0)),\n",
       " (u'59', datetime.datetime(2015, 1, 10, 0, 0)),\n",
       " (u'58', datetime.datetime(2015, 5, 9, 0, 0)),\n",
       " (u'1215', datetime.datetime(2015, 5, 11, 0, 0)),\n",
       " (u'61', datetime.datetime(2015, 5, 12, 0, 0)),\n",
       " (u'55', datetime.datetime(2015, 5, 29, 0, 0)),\n",
       " (u'54', datetime.datetime(2014, 12, 3, 0, 0)),\n",
       " (u'57', datetime.datetime(2015, 5, 6, 0, 0)),\n",
       " (u'56', datetime.datetime(2015, 1, 7, 0, 0)),\n",
       " (u'51', datetime.datetime(2015, 3, 10, 0, 0)),\n",
       " (u'50', datetime.datetime(2015, 3, 4, 0, 0)),\n",
       " (u'53', datetime.datetime(2015, 5, 11, 0, 0)),\n",
       " (u'52', datetime.datetime(2014, 12, 7, 0, 0)),\n",
       " (u'537', datetime.datetime(2014, 11, 10, 0, 0)),\n",
       " (u'536', datetime.datetime(2015, 4, 24, 0, 0)),\n",
       " (u'535', datetime.datetime(2015, 2, 8, 0, 0)),\n",
       " (u'534', datetime.datetime(2015, 1, 12, 0, 0)),\n",
       " (u'533', datetime.datetime(2015, 5, 11, 0, 0)),\n",
       " (u'532', datetime.datetime(2015, 1, 12, 0, 0)),\n",
       " (u'531', datetime.datetime(2015, 7, 8, 0, 0)),\n",
       " (u'530', datetime.datetime(2015, 1, 7, 0, 0)),\n",
       " (u'539', datetime.datetime(2014, 12, 3, 0, 0)),\n",
       " (u'538', datetime.datetime(2015, 6, 2, 0, 0)),\n",
       " (u'988', datetime.datetime(2015, 5, 13, 0, 0)),\n",
       " (u'989', datetime.datetime(2015, 4, 8, 0, 0)),\n",
       " (u'983', datetime.datetime(2015, 1, 14, 0, 0)),\n",
       " (u'986', datetime.datetime(2015, 8, 15, 0, 0)),\n",
       " (u'777', datetime.datetime(2015, 6, 8, 0, 0)),\n",
       " (u'984', datetime.datetime(2015, 8, 13, 0, 0)),\n",
       " (u'985', datetime.datetime(2015, 3, 11, 0, 0)),\n",
       " (u'115', datetime.datetime(2015, 1, 11, 0, 0)),\n",
       " (u'114', datetime.datetime(2015, 5, 8, 0, 0)),\n",
       " (u'117', datetime.datetime(2015, 4, 8, 0, 0)),\n",
       " (u'776', datetime.datetime(2014, 12, 8, 0, 0)),\n",
       " (u'111', datetime.datetime(2014, 12, 7, 0, 0)),\n",
       " (u'110', datetime.datetime(2014, 12, 3, 0, 0)),\n",
       " (u'113', datetime.datetime(2015, 3, 4, 0, 0)),\n",
       " (u'69', datetime.datetime(2015, 3, 10, 0, 0)),\n",
       " (u'205', datetime.datetime(2015, 4, 1, 0, 0)),\n",
       " (u'119', datetime.datetime(2015, 4, 8, 0, 0)),\n",
       " (u'118', datetime.datetime(2015, 4, 6, 0, 0)),\n",
       " (u'773', datetime.datetime(2015, 7, 17, 0, 0)),\n",
       " (u'429', datetime.datetime(2015, 3, 10, 0, 0)),\n",
       " (u'428', datetime.datetime(2014, 11, 10, 0, 0)),\n",
       " (u'1254', datetime.datetime(2015, 1, 10, 0, 0)),\n",
       " (u'919', datetime.datetime(2014, 11, 10, 0, 0)),\n",
       " (u'1253', datetime.datetime(2014, 11, 10, 0, 0)),\n",
       " (u'1250', datetime.datetime(2015, 5, 11, 0, 0)),\n",
       " (u'1251', datetime.datetime(2014, 12, 5, 0, 0)),\n",
       " (u'421', datetime.datetime(2015, 1, 8, 0, 0)),\n",
       " (u'420', datetime.datetime(2014, 11, 10, 0, 0)),\n",
       " (u'423', datetime.datetime(2015, 4, 8, 0, 0)),\n",
       " (u'916', datetime.datetime(2015, 2, 8, 0, 0)),\n",
       " (u'425', datetime.datetime(2015, 4, 5, 0, 0)),\n",
       " (u'424', datetime.datetime(2015, 4, 6, 0, 0)),\n",
       " (u'913', datetime.datetime(2015, 1, 14, 0, 0)),\n",
       " (u'1259', datetime.datetime(2015, 3, 10, 0, 0)),\n",
       " (u'308', datetime.datetime(2014, 11, 16, 0, 0)),\n",
       " (u'309', datetime.datetime(2014, 11, 10, 0, 0)),\n",
       " (u'300', datetime.datetime(2014, 12, 3, 0, 0)),\n",
       " (u'301', datetime.datetime(2014, 11, 10, 0, 0)),\n",
       " (u'302', datetime.datetime(2015, 4, 24, 0, 0)),\n",
       " (u'303', datetime.datetime(2015, 5, 11, 0, 0)),\n",
       " (u'304', datetime.datetime(2015, 5, 10, 0, 0)),\n",
       " (u'305', datetime.datetime(2015, 3, 10, 0, 0)),\n",
       " (u'306', datetime.datetime(2015, 4, 8, 0, 0)),\n",
       " (u'307', datetime.datetime(2015, 2, 10, 0, 0)),\n",
       " (u'825', datetime.datetime(2015, 5, 9, 0, 0)),\n",
       " (u'370', datetime.datetime(2015, 4, 24, 0, 0)),\n",
       " (u'846', datetime.datetime(2015, 5, 12, 0, 0)),\n",
       " (u'844', datetime.datetime(2015, 4, 7, 0, 0)),\n",
       " (u'843', datetime.datetime(2015, 6, 2, 0, 0)),\n",
       " (u'840', datetime.datetime(2015, 8, 21, 0, 0)),\n",
       " (u'853', datetime.datetime(2015, 7, 17, 0, 0)),\n",
       " (u'823', datetime.datetime(2015, 4, 8, 0, 0)),\n",
       " (u'1209', datetime.datetime(2015, 7, 9, 0, 0)),\n",
       " (u'376', datetime.datetime(2015, 5, 5, 0, 0)),\n",
       " (u'459', datetime.datetime(2015, 6, 8, 0, 0)),\n",
       " (u'1249', datetime.datetime(2015, 5, 11, 0, 0)),\n",
       " (u'142', datetime.datetime(2015, 8, 19, 0, 0)),\n",
       " (u'1276', datetime.datetime(2015, 3, 10, 0, 0)),\n",
       " (u'177', datetime.datetime(2015, 4, 10, 0, 0)),\n",
       " (u'145', datetime.datetime(2014, 11, 10, 0, 0)),\n",
       " (u'568', datetime.datetime(2014, 11, 10, 0, 0)),\n",
       " (u'752', datetime.datetime(2014, 11, 10, 0, 0)),\n",
       " (u'751', datetime.datetime(2015, 8, 11, 0, 0)),\n",
       " (u'757', datetime.datetime(2015, 1, 11, 0, 0)),\n",
       " (u'756', datetime.datetime(2014, 11, 15, 0, 0)),\n",
       " (u'449', datetime.datetime(2015, 4, 3, 0, 0)),\n",
       " (u'754', datetime.datetime(2015, 8, 21, 0, 0)),\n",
       " (u'560', datetime.datetime(2014, 12, 6, 0, 0)),\n",
       " (u'561', datetime.datetime(2015, 2, 5, 0, 0)),\n",
       " (u'759', datetime.datetime(2015, 2, 3, 0, 0)),\n",
       " (u'563', datetime.datetime(2014, 12, 3, 0, 0)),\n",
       " (u'564', datetime.datetime(2015, 4, 8, 0, 0)),\n",
       " (u'565', datetime.datetime(2015, 6, 8, 0, 0)),\n",
       " (u'566', datetime.datetime(2015, 5, 12, 0, 0)),\n",
       " (u'567', datetime.datetime(2015, 1, 12, 0, 0)),\n",
       " (u'506', datetime.datetime(2014, 11, 10, 0, 0)),\n",
       " (u'927', datetime.datetime(2015, 5, 13, 0, 0)),\n",
       " (u'229', datetime.datetime(2015, 1, 7, 0, 0)),\n",
       " (u'1033', datetime.datetime(2015, 2, 6, 0, 0)),\n",
       " (u'227', datetime.datetime(2015, 4, 8, 0, 0)),\n",
       " (u'226', datetime.datetime(2015, 6, 8, 0, 0)),\n",
       " (u'225', datetime.datetime(2014, 11, 10, 0, 0)),\n",
       " (u'224', datetime.datetime(2014, 11, 10, 0, 0)),\n",
       " (u'223', datetime.datetime(2014, 11, 10, 0, 0)),\n",
       " (u'222', datetime.datetime(2014, 11, 17, 0, 0)),\n",
       " (u'221', datetime.datetime(2014, 12, 3, 0, 0)),\n",
       " (u'220', datetime.datetime(2015, 5, 29, 0, 0)),\n",
       " (u'1031', datetime.datetime(2015, 6, 9, 0, 0)),\n",
       " (u'1188', datetime.datetime(2015, 2, 10, 0, 0)),\n",
       " (u'1189', datetime.datetime(2015, 4, 7, 0, 0)),\n",
       " (u'1036', datetime.datetime(2015, 6, 9, 0, 0)),\n",
       " (u'1185', datetime.datetime(2015, 5, 13, 0, 0)),\n",
       " (u'1029', datetime.datetime(2015, 5, 12, 0, 0)),\n",
       " (u'1183', datetime.datetime(2015, 7, 17, 0, 0)),\n",
       " (u'1181', datetime.datetime(2014, 12, 5, 0, 0)),\n",
       " (u'726', datetime.datetime(2015, 4, 8, 0, 0)),\n",
       " (u'1205', datetime.datetime(2015, 7, 17, 0, 0)),\n",
       " (u'116', datetime.datetime(2015, 5, 6, 0, 0)),\n",
       " (u'722', datetime.datetime(2015, 3, 10, 0, 0)),\n",
       " (u'720', datetime.datetime(2015, 3, 4, 0, 0)),\n",
       " (u'729', datetime.datetime(2015, 4, 3, 0, 0)),\n",
       " (u'151', datetime.datetime(2015, 1, 11, 0, 0)),\n",
       " (u'150', datetime.datetime(2014, 11, 10, 0, 0)),\n",
       " (u'607', datetime.datetime(2015, 3, 5, 0, 0)),\n",
       " (u'1167', datetime.datetime(2014, 12, 3, 0, 0)),\n",
       " (u'1160', datetime.datetime(2014, 12, 5, 0, 0)),\n",
       " (u'1208', datetime.datetime(2015, 2, 5, 0, 0)),\n",
       " (u'603', datetime.datetime(2015, 2, 9, 0, 0)),\n",
       " (u'156', datetime.datetime(2014, 11, 10, 0, 0)),\n",
       " (u'159', datetime.datetime(2015, 2, 12, 0, 0)),\n",
       " (u'1204', datetime.datetime(2014, 11, 10, 0, 0)),\n",
       " (u'1207', datetime.datetime(2015, 2, 6, 0, 0)),\n",
       " (u'112', datetime.datetime(2015, 5, 8, 0, 0)),\n",
       " (u'1201', datetime.datetime(2014, 12, 7, 0, 0)),\n",
       " (u'608', datetime.datetime(2015, 5, 10, 0, 0)),\n",
       " (u'1202', datetime.datetime(2015, 5, 7, 0, 0)),\n",
       " (u'633', datetime.datetime(2015, 7, 17, 0, 0)),\n",
       " (u'83', datetime.datetime(2015, 6, 6, 0, 0)),\n",
       " (u'1161', datetime.datetime(2014, 11, 13, 0, 0)),\n",
       " (u'634', datetime.datetime(2014, 12, 9, 0, 0)),\n",
       " (u'80', datetime.datetime(2015, 6, 7, 0, 0)),\n",
       " (u'635', datetime.datetime(2015, 5, 7, 0, 0)),\n",
       " (u'958', datetime.datetime(2015, 3, 4, 0, 0)),\n",
       " (u'398', datetime.datetime(2015, 5, 11, 0, 0)),\n",
       " (u'636', datetime.datetime(2015, 3, 5, 0, 0)),\n",
       " (u'48', datetime.datetime(2015, 7, 16, 0, 0)),\n",
       " (u'49', datetime.datetime(2015, 4, 24, 0, 0)),\n",
       " (u'46', datetime.datetime(2014, 12, 8, 0, 0)),\n",
       " (u'950', datetime.datetime(2015, 7, 19, 0, 0)),\n",
       " (u'44', datetime.datetime(2015, 3, 10, 0, 0)),\n",
       " (u'952', datetime.datetime(2015, 2, 11, 0, 0)),\n",
       " (u'42', datetime.datetime(2015, 5, 30, 0, 0)),\n",
       " (u'954', datetime.datetime(2015, 3, 10, 0, 0)),\n",
       " (u'40', datetime.datetime(2015, 7, 15, 0, 0)),\n",
       " (u'41', datetime.datetime(2015, 5, 13, 0, 0)),\n",
       " (u'1111', datetime.datetime(2015, 4, 1, 0, 0)),\n",
       " (u'1110', datetime.datetime(2015, 8, 13, 0, 0)),\n",
       " (u'1113', datetime.datetime(2015, 5, 6, 0, 0)),\n",
       " (u'1299', datetime.datetime(2015, 4, 8, 0, 0)),\n",
       " (u'5', datetime.datetime(2015, 1, 7, 0, 0)),\n",
       " (u'1117', datetime.datetime(2014, 11, 11, 0, 0)),\n",
       " (u'464', datetime.datetime(2015, 4, 1, 0, 0)),\n",
       " (u'1292', datetime.datetime(2015, 1, 7, 0, 0)),\n",
       " (u'1118', datetime.datetime(2014, 11, 17, 0, 0)),\n",
       " (u'1290', datetime.datetime(2015, 6, 2, 0, 0)),\n",
       " (u'591', datetime.datetime(2015, 4, 1, 0, 0)),\n",
       " (u'1206', datetime.datetime(2015, 6, 3, 0, 0)),\n",
       " (u'1217', datetime.datetime(2015, 8, 13, 0, 0)),\n",
       " (u'489', datetime.datetime(2015, 6, 1, 0, 0)),\n",
       " (u'488', datetime.datetime(2015, 1, 9, 0, 0)),\n",
       " (u'487', datetime.datetime(2015, 5, 10, 0, 0)),\n",
       " (u'486', datetime.datetime(2015, 1, 12, 0, 0)),\n",
       " (u'485', datetime.datetime(2015, 3, 10, 0, 0)),\n",
       " (u'484', datetime.datetime(2015, 5, 7, 0, 0)),\n",
       " (u'483', datetime.datetime(2014, 11, 10, 0, 0)),\n",
       " (u'482', datetime.datetime(2015, 4, 3, 0, 0)),\n",
       " (u'481', datetime.datetime(2015, 5, 28, 0, 0)),\n",
       " (u'480', datetime.datetime(2015, 4, 1, 0, 0)),\n",
       " (u'509', datetime.datetime(2015, 3, 5, 0, 0)),\n",
       " (u'472', datetime.datetime(2015, 1, 7, 0, 0)),\n",
       " (u'473', datetime.datetime(2015, 4, 1, 0, 0)),\n",
       " (u'471', datetime.datetime(2015, 5, 7, 0, 0)),\n",
       " (u'476', datetime.datetime(2015, 5, 8, 0, 0)),\n",
       " (u'477', datetime.datetime(2015, 3, 4, 0, 0)),\n",
       " (u'474', datetime.datetime(2014, 12, 9, 0, 0)),\n",
       " (u'475', datetime.datetime(2015, 5, 9, 0, 0)),\n",
       " (u'478', datetime.datetime(2015, 6, 9, 0, 0)),\n",
       " (u'479', datetime.datetime(2015, 5, 9, 0, 0))]"
      ]
     },
     "execution_count": 22,
     "metadata": {},
     "output_type": "execute_result"
    }
   ],
   "source": [
    "paid_students = {}\n",
    "\n",
    "for enrollment in non_udacity_enrollments:\n",
    "    if not enrollment['is_canceled'] or enrollment['days_to_cancel'] > 7:\n",
    "        account_key = enrollment['account_key']\n",
    "        enrollment_date = enrollment['join_date']\n",
    "        \n",
    "        if account_key not in paid_students or enrollment_date > paid_students[account_key]:\n",
    "            paid_students[account_key] = enrollment_date\n",
    "        \n",
    "        \n",
    "        \n",
    "len(paid_students)\n",
    "paid_students.items()\n",
    "\n",
    "\n",
    "\n",
    "\n",
    "\n",
    "\n",
    "    "
   ]
  },
  {
   "cell_type": "code",
   "execution_count": 23,
   "metadata": {
    "collapsed": true
   },
   "outputs": [],
   "source": [
    "def within_one_week(join_date, engagement_date):\n",
    "    time_delta = engagement_date - join_date\n",
    "    return time_delta.days < 7 and time_delta.days >= 0"
   ]
  },
  {
   "cell_type": "code",
   "execution_count": 24,
   "metadata": {
    "collapsed": true
   },
   "outputs": [],
   "source": [
    "###################################\n",
    "#                 7                 #\n",
    "#####################################\n",
    "\n",
    "## Create a list of rows from the engagement table including only rows where\n",
    "## the student is one of the paid students you just found, and the date is within\n",
    "## one week of the student's join date.\n",
    "\n",
    "## Create function to remove free trial cancels\n",
    "def remove_free_trial_cancels(data):\n",
    "    new_data = []\n",
    "    for data_point in data:\n",
    "        if data_point['account_key'] in paid_students:\n",
    "            new_data.append(data_point)\n",
    "    return new_data"
   ]
  },
  {
   "cell_type": "code",
   "execution_count": 25,
   "metadata": {
    "collapsed": false
   },
   "outputs": [
    {
     "name": "stdout",
     "output_type": "stream",
     "text": [
      "1293\n",
      "134549\n",
      "3618\n"
     ]
    }
   ],
   "source": [
    "paid_enrollments = remove_free_trial_cancels(non_udacity_enrollments)\n",
    "paid_engagement = remove_free_trial_cancels(non_udacity_engagements)\n",
    "paid_submissions = remove_free_trial_cancels(non_udacity_submissions)\n",
    "\n",
    "print len(paid_enrollments)\n",
    "print len(paid_engagement)\n",
    "print len(paid_submissions)\n"
   ]
  },
  {
   "cell_type": "code",
   "execution_count": 26,
   "metadata": {
    "collapsed": true
   },
   "outputs": [],
   "source": [
    "for engagement_record in paid_engagement:\n",
    "    if engagement_record['num_courses_visited'] > 0:\n",
    "        engagement_record['has_visited'] = 1\n",
    "    else:\n",
    "        engagement_record['has_visited'] = 0"
   ]
  },
  {
   "cell_type": "code",
   "execution_count": 27,
   "metadata": {
    "collapsed": false
   },
   "outputs": [
    {
     "data": {
      "text/plain": [
       "6919"
      ]
     },
     "execution_count": 27,
     "metadata": {},
     "output_type": "execute_result"
    }
   ],
   "source": [
    "paid_engagement_in_first_week = []\n",
    "\n",
    "for engagement_record in paid_engagement:\n",
    "    account_key = engagement_record['account_key']\n",
    "    join_date = paid_students[account_key]\n",
    "    engagement_record_date = engagement_record['utc_date']\n",
    "    \n",
    "    if within_one_week(join_date, engagement_record_date):\n",
    "        paid_engagement_in_first_week.append(engagement_record)\n",
    "        \n",
    "len(paid_engagement_in_first_week)\n",
    "\n"
   ]
  },
  {
   "cell_type": "code",
   "execution_count": 28,
   "metadata": {
    "collapsed": false
   },
   "outputs": [],
   "source": [
    "from collections import defaultdict\n",
    "\n",
    "def group_data(data, key_name):\n",
    "    grouped_data = defaultdict(list)\n",
    "    for data_point in data:\n",
    "        key = data_point[key_name]\n",
    "        grouped_data[key].append(data_point)\n",
    "    return grouped_data\n",
    "\n",
    "engagement_by_account = group_data(paid_engagement_in_first_week, 'account_key')\n",
    "    \n",
    "    "
   ]
  },
  {
   "cell_type": "code",
   "execution_count": 29,
   "metadata": {
    "collapsed": false
   },
   "outputs": [],
   "source": [
    "def sum_grouped_items(grouped_data, field_name):\n",
    "    summed_data = {}\n",
    "\n",
    "    for key, data_points in grouped_data.items():\n",
    "        total = 0\n",
    "        for data_point in data_points:\n",
    "            total += data_point[field_name]\n",
    "        summed_data[key] = total\n",
    "    return summed_data\n",
    "\n",
    "total_minutes_by_account = sum_grouped_items(engagement_by_account, 'total_minutes_visited')"
   ]
  },
  {
   "cell_type": "code",
   "execution_count": 30,
   "metadata": {
    "collapsed": false
   },
   "outputs": [
    {
     "name": "stdout",
     "output_type": "stream",
     "text": [
      "Mean: 306.708326753\n",
      "Standard deviation: 412.996933409\n",
      "Minimum: 0.0\n",
      "Maximum: 3564.7332645\n"
     ]
    }
   ],
   "source": [
    "import numpy as np\n",
    "\n",
    "def describe_data(data):\n",
    "    print 'Mean:', np.mean(data)\n",
    "    print 'Standard deviation:', np.std(data)\n",
    "    print 'Minimum:', np.min(data)\n",
    "    print 'Maximum:', np.max(data)\n",
    "\n",
    "\n",
    "total_minutes = total_minutes_by_account.values()\n",
    "describe_data(total_minutes)\n",
    "\n",
    "\n",
    "\n"
   ]
  },
  {
   "cell_type": "code",
   "execution_count": 31,
   "metadata": {
    "collapsed": false
   },
   "outputs": [
    {
     "data": {
      "text/plain": [
       "3564.7332644989997"
      ]
     },
     "execution_count": 31,
     "metadata": {},
     "output_type": "execute_result"
    }
   ],
   "source": [
    "student_with_max_minutes = None\n",
    "max_minutes = 0\n",
    "\n",
    "for student, total_minutes in total_minutes_by_account.items():\n",
    "    if total_minutes > max_minutes:\n",
    "        max_minutes = total_minutes\n",
    "        student_with_max_minutes = student\n",
    "        \n",
    "max_minutes"
   ]
  },
  {
   "cell_type": "code",
   "execution_count": 32,
   "metadata": {
    "collapsed": false
   },
   "outputs": [
    {
     "name": "stdout",
     "output_type": "stream",
     "text": [
      "{u'lessons_completed': 4, u'num_courses_visited': 4, 'has_visited': 1, u'total_minutes_visited': 850.519339666, u'projects_completed': 0, 'account_key': u'163', u'utc_date': datetime.datetime(2015, 7, 9, 0, 0)}\n",
      "{u'lessons_completed': 6, u'num_courses_visited': 6, 'has_visited': 1, u'total_minutes_visited': 872.633923334, u'projects_completed': 0, 'account_key': u'163', u'utc_date': datetime.datetime(2015, 7, 10, 0, 0)}\n",
      "{u'lessons_completed': 6, u'num_courses_visited': 2, 'has_visited': 1, u'total_minutes_visited': 777.018903666, u'projects_completed': 0, 'account_key': u'163', u'utc_date': datetime.datetime(2015, 7, 11, 0, 0)}\n",
      "{u'lessons_completed': 2, u'num_courses_visited': 1, 'has_visited': 1, u'total_minutes_visited': 294.568774, u'projects_completed': 0, 'account_key': u'163', u'utc_date': datetime.datetime(2015, 7, 12, 0, 0)}\n",
      "{u'lessons_completed': 1, u'num_courses_visited': 3, 'has_visited': 1, u'total_minutes_visited': 471.2139785, u'projects_completed': 0, 'account_key': u'163', u'utc_date': datetime.datetime(2015, 7, 13, 0, 0)}\n",
      "{u'lessons_completed': 1, u'num_courses_visited': 2, 'has_visited': 1, u'total_minutes_visited': 298.778345333, u'projects_completed': 0, 'account_key': u'163', u'utc_date': datetime.datetime(2015, 7, 14, 0, 0)}\n",
      "{u'lessons_completed': 0, u'num_courses_visited': 0, 'has_visited': 0, u'total_minutes_visited': 0.0, u'projects_completed': 0, 'account_key': u'163', u'utc_date': datetime.datetime(2015, 7, 15, 0, 0)}\n"
     ]
    }
   ],
   "source": [
    "for engagement_record in paid_engagement_in_first_week:\n",
    "    if engagement_record['account_key'] == student_with_max_minutes:\n",
    "        print engagement_record\n",
    "        "
   ]
  },
  {
   "cell_type": "code",
   "execution_count": 33,
   "metadata": {
    "collapsed": false
   },
   "outputs": [
    {
     "name": "stdout",
     "output_type": "stream",
     "text": [
      "Mean: 1.63618090452\n",
      "Standard deviation: 3.00256129983\n",
      "Minimum: 0\n",
      "Maximum: 36\n"
     ]
    }
   ],
   "source": [
    "lessons_completed_by_account = sum_grouped_items(engagement_by_account, 'lessons_completed')\n",
    "\n",
    "lessons_completed = lessons_completed_by_account.values()\n",
    "describe_data(lessons_completed)"
   ]
  },
  {
   "cell_type": "code",
   "execution_count": null,
   "metadata": {
    "collapsed": true
   },
   "outputs": [],
   "source": [
    "days_visited_by_account = sum_grouped_items(engagement_by_acount, 'has_visited')\n",
    "describe_data(days_v)"
   ]
  }
 ],
 "metadata": {
  "anaconda-cloud": {},
  "kernelspec": {
   "display_name": "Python [conda env:DAND]",
   "language": "python",
   "name": "conda-env-DAND-py"
  },
  "language_info": {
   "codemirror_mode": {
    "name": "ipython",
    "version": 2
   },
   "file_extension": ".py",
   "mimetype": "text/x-python",
   "name": "python",
   "nbconvert_exporter": "python",
   "pygments_lexer": "ipython2",
   "version": "2.7.12"
  }
 },
 "nbformat": 4,
 "nbformat_minor": 2
}
